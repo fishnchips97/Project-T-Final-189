{
 "cells": [
  {
   "cell_type": "markdown",
   "metadata": {},
   "source": [
    "# EECS189 Project T Final Notebook\n",
    "## Week 2: Testing/Training, Cross-Validation, and Bias-Variance\n",
    "## This is the solution notebook, so all code will be written out. In the student notebook, specific lines will be left blank for students to fill in\n",
    "    \n"
   ]
  },
  {
   "cell_type": "code",
   "execution_count": 1,
   "metadata": {},
   "outputs": [],
   "source": [
    "#!pip install plotly"
   ]
  },
  {
   "cell_type": "code",
   "execution_count": 2,
   "metadata": {},
   "outputs": [],
   "source": [
    "# import necessary libraries\n",
    "\n",
    "\n",
    "# data organization libraries\n",
    "import numpy as np\n",
    "import pandas as pd\n",
    "\n",
    "# data visualization libraries\n",
    "import plotly.express as px\n",
    "import matplotlib.pyplot as plt\n",
    "import seaborn as sns\n",
    "\n",
    "from sklearn.linear_model import LinearRegression\n",
    "from sklearn.svm import SVR\n",
    "from sklearn.metrics import mean_squared_error\n",
    "\n",
    "from sklearn.model_selection import KFold\n",
    "from sklearn.model_selection import train_test_split\n",
    "\n",
    "# modeling libraries\n",
    "import sklearn as sk\n",
    "from sklearn import kernel_ridge\n",
    "\n",
    "plt.style.use('seaborn')\n"
   ]
  },
  {
   "cell_type": "markdown",
   "metadata": {},
   "source": [
    "# Goals\n",
    "\n",
    "Prediction models that are used in the industry must be able to maintain accuracy on previously unseen data. At this point in your EECS education, you have only learned model assesment within the context of data the model has already seen. This creates a problem, because if we assess our model with the same data that was used to fit it, then we may overestimate how well our model does at prediction. After completing this assigment, students will know the methodology behind improving prediction models so they are ready for use in the real world."
   ]
  },
  {
   "cell_type": "markdown",
   "metadata": {},
   "source": [
    "# Context\n",
    "\n",
    "Suppose that you have been contracted by the Portuguese Government to conduct data driven research on forest fire prevention. The main goal of your research is to create a model that will be used by a government fast forrest fire detection system. Can you predict the area of a fire (and thus its severity) based on certain weather conditions?\n",
    "    \n",
    "The data set we are given consists of 517 seperate forrest fire instances from different areas within the Montesinho Natural Park in Portugal, with features being the weather and climate conditions recorded the day of the fire.\n",
    "    \n",
    "    "
   ]
  },
  {
   "cell_type": "markdown",
   "metadata": {},
   "source": [
    "# Forest Fires Data\n",
    "\n",
    "![](park.png)\n"
   ]
  },
  {
   "cell_type": "code",
   "execution_count": 3,
   "metadata": {},
   "outputs": [],
   "source": [
    "#make data set smaller for simple example, then add in other data later.\n",
    "#start with model with only wind rain area x y\n"
   ]
  },
  {
   "cell_type": "markdown",
   "metadata": {},
   "source": [
    "Here is a map of the park that our data set comes from. Lets download a dataset and  take a look at the first couple of rows. We will be loading in a dataset with fewer columns than the one you will use later in this notebook to look at some key ideas."
   ]
  },
  {
   "cell_type": "code",
   "execution_count": 8,
   "metadata": {},
   "outputs": [
    {
     "data": {
      "text/html": [
       "<div>\n",
       "<style scoped>\n",
       "    .dataframe tbody tr th:only-of-type {\n",
       "        vertical-align: middle;\n",
       "    }\n",
       "\n",
       "    .dataframe tbody tr th {\n",
       "        vertical-align: top;\n",
       "    }\n",
       "\n",
       "    .dataframe thead th {\n",
       "        text-align: right;\n",
       "    }\n",
       "</style>\n",
       "<table border=\"1\" class=\"dataframe\">\n",
       "  <thead>\n",
       "    <tr style=\"text-align: right;\">\n",
       "      <th></th>\n",
       "      <th>X</th>\n",
       "      <th>Y</th>\n",
       "      <th>month</th>\n",
       "      <th>day</th>\n",
       "      <th>FFMC</th>\n",
       "      <th>DMC</th>\n",
       "      <th>DC</th>\n",
       "      <th>ISI</th>\n",
       "      <th>temp</th>\n",
       "      <th>RH</th>\n",
       "      <th>wind</th>\n",
       "      <th>rain</th>\n",
       "      <th>area</th>\n",
       "      <th>area_cat</th>\n",
       "      <th>temp_bins</th>\n",
       "    </tr>\n",
       "  </thead>\n",
       "  <tbody>\n",
       "    <tr>\n",
       "      <th>0</th>\n",
       "      <td>1</td>\n",
       "      <td>2</td>\n",
       "      <td>8</td>\n",
       "      <td>5</td>\n",
       "      <td>91.0</td>\n",
       "      <td>166.9</td>\n",
       "      <td>752.6</td>\n",
       "      <td>7.1</td>\n",
       "      <td>25.9</td>\n",
       "      <td>41</td>\n",
       "      <td>3.6</td>\n",
       "      <td>0.0</td>\n",
       "      <td>0.00</td>\n",
       "      <td>0-5</td>\n",
       "      <td>&gt;25</td>\n",
       "    </tr>\n",
       "    <tr>\n",
       "      <th>1</th>\n",
       "      <td>5</td>\n",
       "      <td>4</td>\n",
       "      <td>8</td>\n",
       "      <td>2</td>\n",
       "      <td>95.1</td>\n",
       "      <td>141.3</td>\n",
       "      <td>605.8</td>\n",
       "      <td>17.7</td>\n",
       "      <td>26.4</td>\n",
       "      <td>34</td>\n",
       "      <td>3.6</td>\n",
       "      <td>0.0</td>\n",
       "      <td>16.40</td>\n",
       "      <td>10-50</td>\n",
       "      <td>&gt;25</td>\n",
       "    </tr>\n",
       "    <tr>\n",
       "      <th>2</th>\n",
       "      <td>6</td>\n",
       "      <td>5</td>\n",
       "      <td>8</td>\n",
       "      <td>3</td>\n",
       "      <td>92.1</td>\n",
       "      <td>111.2</td>\n",
       "      <td>654.1</td>\n",
       "      <td>9.6</td>\n",
       "      <td>16.6</td>\n",
       "      <td>47</td>\n",
       "      <td>0.9</td>\n",
       "      <td>0.0</td>\n",
       "      <td>2.29</td>\n",
       "      <td>0-5</td>\n",
       "      <td>15-20</td>\n",
       "    </tr>\n",
       "    <tr>\n",
       "      <th>3</th>\n",
       "      <td>6</td>\n",
       "      <td>3</td>\n",
       "      <td>8</td>\n",
       "      <td>4</td>\n",
       "      <td>91.6</td>\n",
       "      <td>138.1</td>\n",
       "      <td>621.7</td>\n",
       "      <td>6.3</td>\n",
       "      <td>18.9</td>\n",
       "      <td>41</td>\n",
       "      <td>3.1</td>\n",
       "      <td>0.0</td>\n",
       "      <td>10.34</td>\n",
       "      <td>10-50</td>\n",
       "      <td>15-20</td>\n",
       "    </tr>\n",
       "    <tr>\n",
       "      <th>4</th>\n",
       "      <td>4</td>\n",
       "      <td>5</td>\n",
       "      <td>8</td>\n",
       "      <td>0</td>\n",
       "      <td>90.2</td>\n",
       "      <td>99.6</td>\n",
       "      <td>631.2</td>\n",
       "      <td>6.3</td>\n",
       "      <td>21.4</td>\n",
       "      <td>33</td>\n",
       "      <td>3.1</td>\n",
       "      <td>0.0</td>\n",
       "      <td>0.00</td>\n",
       "      <td>0-5</td>\n",
       "      <td>20-25</td>\n",
       "    </tr>\n",
       "  </tbody>\n",
       "</table>\n",
       "</div>"
      ],
      "text/plain": [
       "   X  Y  month  day  FFMC    DMC     DC   ISI  temp  RH  wind  rain   area  \\\n",
       "0  1  2      8    5  91.0  166.9  752.6   7.1  25.9  41   3.6   0.0   0.00   \n",
       "1  5  4      8    2  95.1  141.3  605.8  17.7  26.4  34   3.6   0.0  16.40   \n",
       "2  6  5      8    3  92.1  111.2  654.1   9.6  16.6  47   0.9   0.0   2.29   \n",
       "3  6  3      8    4  91.6  138.1  621.7   6.3  18.9  41   3.1   0.0  10.34   \n",
       "4  4  5      8    0  90.2   99.6  631.2   6.3  21.4  33   3.1   0.0   0.00   \n",
       "\n",
       "  area_cat temp_bins  \n",
       "0      0-5       >25  \n",
       "1    10-50       >25  \n",
       "2      0-5     15-20  \n",
       "3    10-50     15-20  \n",
       "4      0-5     20-25  "
      ]
     },
     "execution_count": 8,
     "metadata": {},
     "output_type": "execute_result"
    }
   ],
   "source": [
    "fire_df = pd.read_csv('raw_df.csv')\n",
    "fire_df.head() "
   ]
  },
  {
   "cell_type": "markdown",
   "metadata": {},
   "source": [
    "Oh no! Some of these values are strings and some are numbers! We will be working with regression models in this notebook, so stretch your pandas muscles from last week and replace them with their numerical counterparts"
   ]
  },
  {
   "cell_type": "code",
   "execution_count": 9,
   "metadata": {},
   "outputs": [
    {
     "data": {
      "text/html": [
       "<div>\n",
       "<style scoped>\n",
       "    .dataframe tbody tr th:only-of-type {\n",
       "        vertical-align: middle;\n",
       "    }\n",
       "\n",
       "    .dataframe tbody tr th {\n",
       "        vertical-align: top;\n",
       "    }\n",
       "\n",
       "    .dataframe thead th {\n",
       "        text-align: right;\n",
       "    }\n",
       "</style>\n",
       "<table border=\"1\" class=\"dataframe\">\n",
       "  <thead>\n",
       "    <tr style=\"text-align: right;\">\n",
       "      <th></th>\n",
       "      <th>X</th>\n",
       "      <th>Y</th>\n",
       "      <th>month</th>\n",
       "      <th>day</th>\n",
       "      <th>FFMC</th>\n",
       "      <th>DMC</th>\n",
       "      <th>DC</th>\n",
       "      <th>ISI</th>\n",
       "      <th>temp</th>\n",
       "      <th>RH</th>\n",
       "      <th>wind</th>\n",
       "      <th>rain</th>\n",
       "      <th>area</th>\n",
       "      <th>area_cat</th>\n",
       "      <th>temp_bins</th>\n",
       "    </tr>\n",
       "  </thead>\n",
       "  <tbody>\n",
       "    <tr>\n",
       "      <th>0</th>\n",
       "      <td>1</td>\n",
       "      <td>2</td>\n",
       "      <td>8</td>\n",
       "      <td>5</td>\n",
       "      <td>91.0</td>\n",
       "      <td>166.9</td>\n",
       "      <td>752.6</td>\n",
       "      <td>7.1</td>\n",
       "      <td>25.9</td>\n",
       "      <td>41</td>\n",
       "      <td>3.6</td>\n",
       "      <td>0.0</td>\n",
       "      <td>0.00</td>\n",
       "      <td>0-5</td>\n",
       "      <td>&gt;25</td>\n",
       "    </tr>\n",
       "    <tr>\n",
       "      <th>1</th>\n",
       "      <td>5</td>\n",
       "      <td>4</td>\n",
       "      <td>8</td>\n",
       "      <td>2</td>\n",
       "      <td>95.1</td>\n",
       "      <td>141.3</td>\n",
       "      <td>605.8</td>\n",
       "      <td>17.7</td>\n",
       "      <td>26.4</td>\n",
       "      <td>34</td>\n",
       "      <td>3.6</td>\n",
       "      <td>0.0</td>\n",
       "      <td>16.40</td>\n",
       "      <td>10-50</td>\n",
       "      <td>&gt;25</td>\n",
       "    </tr>\n",
       "    <tr>\n",
       "      <th>2</th>\n",
       "      <td>6</td>\n",
       "      <td>5</td>\n",
       "      <td>8</td>\n",
       "      <td>3</td>\n",
       "      <td>92.1</td>\n",
       "      <td>111.2</td>\n",
       "      <td>654.1</td>\n",
       "      <td>9.6</td>\n",
       "      <td>16.6</td>\n",
       "      <td>47</td>\n",
       "      <td>0.9</td>\n",
       "      <td>0.0</td>\n",
       "      <td>2.29</td>\n",
       "      <td>0-5</td>\n",
       "      <td>15-20</td>\n",
       "    </tr>\n",
       "    <tr>\n",
       "      <th>3</th>\n",
       "      <td>6</td>\n",
       "      <td>3</td>\n",
       "      <td>8</td>\n",
       "      <td>4</td>\n",
       "      <td>91.6</td>\n",
       "      <td>138.1</td>\n",
       "      <td>621.7</td>\n",
       "      <td>6.3</td>\n",
       "      <td>18.9</td>\n",
       "      <td>41</td>\n",
       "      <td>3.1</td>\n",
       "      <td>0.0</td>\n",
       "      <td>10.34</td>\n",
       "      <td>10-50</td>\n",
       "      <td>15-20</td>\n",
       "    </tr>\n",
       "    <tr>\n",
       "      <th>4</th>\n",
       "      <td>4</td>\n",
       "      <td>5</td>\n",
       "      <td>8</td>\n",
       "      <td>0</td>\n",
       "      <td>90.2</td>\n",
       "      <td>99.6</td>\n",
       "      <td>631.2</td>\n",
       "      <td>6.3</td>\n",
       "      <td>21.4</td>\n",
       "      <td>33</td>\n",
       "      <td>3.1</td>\n",
       "      <td>0.0</td>\n",
       "      <td>0.00</td>\n",
       "      <td>0-5</td>\n",
       "      <td>20-25</td>\n",
       "    </tr>\n",
       "  </tbody>\n",
       "</table>\n",
       "</div>"
      ],
      "text/plain": [
       "   X  Y  month  day  FFMC    DMC     DC   ISI  temp  RH  wind  rain   area  \\\n",
       "0  1  2      8    5  91.0  166.9  752.6   7.1  25.9  41   3.6   0.0   0.00   \n",
       "1  5  4      8    2  95.1  141.3  605.8  17.7  26.4  34   3.6   0.0  16.40   \n",
       "2  6  5      8    3  92.1  111.2  654.1   9.6  16.6  47   0.9   0.0   2.29   \n",
       "3  6  3      8    4  91.6  138.1  621.7   6.3  18.9  41   3.1   0.0  10.34   \n",
       "4  4  5      8    0  90.2   99.6  631.2   6.3  21.4  33   3.1   0.0   0.00   \n",
       "\n",
       "  area_cat temp_bins  \n",
       "0      0-5       >25  \n",
       "1    10-50       >25  \n",
       "2      0-5     15-20  \n",
       "3    10-50     15-20  \n",
       "4      0-5     20-25  "
      ]
     },
     "execution_count": 9,
     "metadata": {},
     "output_type": "execute_result"
    }
   ],
   "source": [
    "weekdaystr2num = {\n",
    "    'sun': 0,\n",
    "    'mon': 1,\n",
    "    'tue': 2,\n",
    "    'wed': 3,\n",
    "    'thu': 4,\n",
    "    'fri': 5,\n",
    "    'sat': 6\n",
    "}\n",
    "\n",
    "monthstr2num = {\n",
    "    'jan': 1,\n",
    "    'feb': 2,\n",
    "    'mar': 3,\n",
    "    'apr': 4,\n",
    "    'may': 5,\n",
    "    'jun': 6,\n",
    "    'jul': 7,\n",
    "    'aug': 8,\n",
    "    'sep': 9,\n",
    "    'oct': 10,\n",
    "    'nov': 11,\n",
    "    'dec': 12\n",
    "}\n",
    "areaCatStr2num = {\n",
    "    '0-5': 1,\n",
    "    '5-10':2,\n",
    "    '10-50': 3,\n",
    "    '50-100': 4\n",
    "}\n",
    "\n",
    "tempBinsStr2num = {\n",
    "    '0-15':1,\n",
    "    '15-20': 2,\n",
    "    '20-25': 3,\n",
    "    '>25': 4,\n",
    "}\n",
    "\n",
    "##### START #####\n",
    "# fire_df['day'] = fire_df['day'].replace(weekdaystr2num)\n",
    "# fire_df['month'] = fire_df['month'].replace(monthstr2num)\n",
    "##### END #####\n",
    "\n",
    "# fire_df['area_cat'] = fire_df['area_cat'].replace(areaCatStr2num)\n",
    "# fire_df['temp_bins'] = fire_df['temp_bins'].replace(tempBinsStr2num)\n",
    "\n",
    "fire_df.head()"
   ]
  },
  {
   "cell_type": "markdown",
   "metadata": {},
   "source": [
    "- X and Y represent the location of the fire on the simplied map provided above\n",
    "- month and day are for the date of the fire\n",
    "- area is the extent of the fire\n",
    "- wind and rain (and other measures we will introduce later) describe the environmental conditions at the time\n",
    "    \n",
    "The response variable, meaning the value we are trying to predict, can be found in the area column, which represents the total area burned per Hectares(ha). The rest of the columns are the weather and climate features we will be using to fit our model. Wind is wind speed in $km/h$ and Rain is outside rain in $mm/m^2$. The other columns represent Codes from the Canadian Fire Weather Index. Below is a diagram outline what each Code means.\n",
    "\n",
    "![](fwi.png)\n",
    "    "
   ]
  },
  {
   "cell_type": "markdown",
   "metadata": {},
   "source": [
    "**Plot** univariate histograms for each of the features in the data frame. The .hist() method of pandas dataframes may be useful."
   ]
  },
  {
   "cell_type": "code",
   "execution_count": 10,
   "metadata": {},
   "outputs": [
    {
     "data": {
      "text/plain": [
       "array([[<AxesSubplot:title={'center':'X'}>,\n",
       "        <AxesSubplot:title={'center':'Y'}>,\n",
       "        <AxesSubplot:title={'center':'month'}>,\n",
       "        <AxesSubplot:title={'center':'day'}>],\n",
       "       [<AxesSubplot:title={'center':'FFMC'}>,\n",
       "        <AxesSubplot:title={'center':'DMC'}>,\n",
       "        <AxesSubplot:title={'center':'DC'}>,\n",
       "        <AxesSubplot:title={'center':'ISI'}>],\n",
       "       [<AxesSubplot:title={'center':'temp'}>,\n",
       "        <AxesSubplot:title={'center':'RH'}>,\n",
       "        <AxesSubplot:title={'center':'wind'}>,\n",
       "        <AxesSubplot:title={'center':'rain'}>],\n",
       "       [<AxesSubplot:title={'center':'area'}>, <AxesSubplot:>,\n",
       "        <AxesSubplot:>, <AxesSubplot:>]], dtype=object)"
      ]
     },
     "execution_count": 10,
     "metadata": {},
     "output_type": "execute_result"
    },
    {
     "data": {
      "image/png": "[encoded data removed]",
      "text/plain": [
       "<Figure size 1440x1080 with 16 Axes>"
      ]
     },
     "metadata": {},
     "output_type": "display_data"
    }
   ],
   "source": [
    "##### START #####\n",
    "fire_df.hist(bins=30, figsize=(20,15))\n",
    "##### END #####"
   ]
  },
  {
   "cell_type": "markdown",
   "metadata": {},
   "source": [
    "**Plot** the following joint distributions. Do you see any possible relationships?"
   ]
  },
  {
   "cell_type": "markdown",
   "metadata": {},
   "source": [
    "1. X and Y location with area being the size of the dot at that point"
   ]
  },
  {
   "cell_type": "code",
   "execution_count": 11,
   "metadata": {},
   "outputs": [
    {
     "data": {
      "text/plain": [
       "Text(0.5, 1.0, 'Fire area by X and Y location')"
      ]
     },
     "execution_count": 11,
     "metadata": {},
     "output_type": "execute_result"
    },
    {
     "data": {
      "image/png": "[encoded data removed]",
      "text/plain": [
       "<Figure size 576x396 with 1 Axes>"
      ]
     },
     "metadata": {},
     "output_type": "display_data"
    }
   ],
   "source": [
    "##### START #####\n",
    "plt.scatter(fire_df[\"X\"], fire_df[\"Y\"], \n",
    "            s = fire_df['area'], cmap=\"viridis\")\n",
    "plt.xlabel('X')\n",
    "plt.ylabel('Y')\n",
    "plt.title(\"Fire area by X and Y location\")\n",
    "##### END #####"
   ]
  },
  {
   "cell_type": "markdown",
   "metadata": {},
   "source": [
    "2. FFMC and Wind with ISI as the size of the dot"
   ]
  },
  {
   "cell_type": "code",
   "execution_count": 12,
   "metadata": {},
   "outputs": [
    {
     "data": {
      "text/plain": [
       "<matplotlib.colorbar.Colorbar at 0x7fe345896d90>"
      ]
     },
     "execution_count": 12,
     "metadata": {},
     "output_type": "execute_result"
    },
    {
     "data": {
      "image/png": "[encoded data removed]",
      "text/plain": [
       "<Figure size 576x396 with 2 Axes>"
      ]
     },
     "metadata": {},
     "output_type": "display_data"
    }
   ],
   "source": [
    "##### START #####\n",
    "plt.scatter(fire_df[\"FFMC\"], fire_df[\"wind\"], \n",
    "            c=fire_df['ISI'], s=fire_df['ISI']*10, cmap=\"viridis\")\n",
    "plt.xlabel('FFMC')\n",
    "plt.ylabel('wind')\n",
    "plt.title(\"ISI by FFMC index and wind\")\n",
    "plt.colorbar(label=\"ISI\")\n",
    "##### END #####"
   ]
  },
  {
   "cell_type": "markdown",
   "metadata": {},
   "source": [
    "3. Some joint distribution of your choice"
   ]
  },
  {
   "cell_type": "code",
   "execution_count": 13,
   "metadata": {},
   "outputs": [],
   "source": [
    "##### START #####\n",
    "##### END #####"
   ]
  },
  {
   "cell_type": "markdown",
   "metadata": {},
   "source": [
    "# Bringing data to Numpy\n",
    "\n",
    "Pandas is really good for filtering and manipulating large datasets, but when we finally have to train machine learning models, it's best to keep the data in a matrix format. This will make computations run faster and give us access to helpful libraries like sklearn.\n",
    "\n",
    "Use the df.[to_numpy()](https://pandas.pydata.org/pandas-docs/stable/reference/api/pandas.DataFrame.to_numpy.html) function in pandas to create the feature and label matrices X and y. Since we're predicting fire area, what column represents a data point's label (what we want to predict)? What columns represent the data point's features?"
   ]
  },
  {
   "cell_type": "code",
   "execution_count": 14,
   "metadata": {},
   "outputs": [],
   "source": [
    "##### START #####\n",
    "X = fire_df[[c for c in fire_df.columns if c != 'area']].to_numpy()\n",
    "y = fire_df[['area']].to_numpy()\n",
    "##### END #####"
   ]
  },
  {
   "cell_type": "markdown",
   "metadata": {},
   "source": [
    "## Training Data & Test Data\n",
    "\n",
    "We only have so much data and we need to decide how much to set aside for testing and how much to use for training. We cannot use the testing data in training because we may overfit to particular details of the limited data set instead of generalizing to the underlying pattern that generated the data.\n",
    "\n",
    "It would be nice to use as much data as we can to train since we need lots of data to learn the overall pattern. While doing this, we should still have a hefty amount to be used to test since we need to know how well the model is performing.\n",
    "\n",
    "Let's say we want to do a 7:3 training-test split. Without using sklearn's `train_test_split` function, create matrices `X_train`, `y_train`, `X_test`, and `y_test` to reflect this split. This will help you to understand what this function is doing."
   ]
  },
  {
   "cell_type": "code",
   "execution_count": 15,
   "metadata": {},
   "outputs": [],
   "source": [
    "##### START #####\n",
    "n_train = int(X.shape[0] * 0.7)\n",
    "X_train = X[:n_train]\n",
    "y_train = y[:n_train]\n",
    "X_test = X[n_train:]\n",
    "y_test = y[n_train:]\n",
    "##### END #####"
   ]
  },
  {
   "cell_type": "markdown",
   "metadata": {},
   "source": [
    "Now that we see how to split apart the data, we will just use sklearn's `train_test_split` function."
   ]
  },
  {
   "cell_type": "code",
   "execution_count": 16,
   "metadata": {},
   "outputs": [],
   "source": [
    "X_train, X_test, y_train, y_test = train_test_split(X, y, test_size=0.3, random_state=42)"
   ]
  },
  {
   "cell_type": "markdown",
   "metadata": {},
   "source": [
    "Let's combine the test train split and numpy conversion into a generic function below. "
   ]
  },
  {
   "cell_type": "code",
   "execution_count": 17,
   "metadata": {},
   "outputs": [],
   "source": [
    "def sk_test_train(df, target, features, test_ratio):\n",
    "    # df - data frame we are using to pull information\n",
    "    # target - the data frame column  to predict\n",
    "    # features - the columns for x\n",
    "    # test_ratio - was ratio of the data to dedicate towards testing\n",
    "    \n",
    "    X_df = df.loc[:, features]\n",
    "    \n",
    "    X = X_df.to_numpy()\n",
    "    \n",
    "    y_df = df.loc[:, target]\n",
    "    \n",
    "    y = y_df.to_numpy()\n",
    "    \n",
    "    y = y.flatten()\n",
    "    \n",
    "    # split\n",
    "    X_train, X_test, y_train, y_test = train_test_split(X, y, test_size=test_ratio, random_state=0)\n",
    "    \n",
    "    return X_train, X_test, y_train, y_test\n"
   ]
  },
  {
   "cell_type": "code",
   "execution_count": 18,
   "metadata": {},
   "outputs": [],
   "source": [
    "X_train, X_test, y_train, y_test = sk_test_train(fire_df, 'area', ['temp', 'rain', 'wind'], 0.3)"
   ]
  },
  {
   "cell_type": "markdown",
   "metadata": {},
   "source": [
    "# Ordinary Least Squares\n",
    "\n",
    "In this section we will begin to build the linear models we will be evaluating later. We will be using different variants of the OLS and SVM models you have been exposed to previously. Here is a diagram to refresh your knowledge of OLS. For move review material see this note from EE16A linked below.\n",
    "[OLS_REVIEW_16A](https://eecs16a.org/lecture/Note23.pdf)\n",
    "\n",
    "    \n",
    "![](OLS.png)\n",
    "\n",
    "\n"
   ]
  },
  {
   "cell_type": "markdown",
   "metadata": {},
   "source": [
    "## Let's implement!\n",
    "\n",
    "Now that you have a better understanding of the data and models we will be working with,  we will get some practice with the Scikit-Learn functions that will be used throughout this assigment. We will start with the LinearRegression class from Scikit-Learn's linear_model library. Perhaps use sklearn's\n",
    "[LinearRegression](https://scikit-learn.org/stable/modules/generated/sklearn.linear_model.LinearRegression.html)"
   ]
  },
  {
   "cell_type": "code",
   "execution_count": 19,
   "metadata": {},
   "outputs": [],
   "source": [
    "def train_linear_regression(X_train, y_train):\n",
    "    \"\"\"\n",
    "    X_train - Training data\n",
    "    y_train - Training labels\n",
    "    \n",
    "    Return reg, an instance of LinearRegression.fit() that represents the trained model\n",
    "    \"\"\"\n",
    "    ##### START #####\n",
    "    reg = LinearRegression().fit(X_train, y_train)\n",
    "    ##### END #####\n",
    "    return reg"
   ]
  },
  {
   "cell_type": "markdown",
   "metadata": {},
   "source": [
    "# Training and Testing Metrics\n",
    "\n",
    "How close are the model predictions to the true labels? Let's implement some error metrics with sklearn to see.\n",
    "\n",
    "Implement \n",
    "- Mean Squared Error (MSE) without sklearn functions, and with sklearn functions like [mean_squared_error()](https://scikit-learn.org/stable/modules/generated/sklearn.metrics.mean_squared_error.html)\n",
    "- Root Mean Squared Error (RMSE) without sklearn functions, and with sklearn functions"
   ]
  },
  {
   "cell_type": "code",
   "execution_count": 20,
   "metadata": {},
   "outputs": [],
   "source": [
    "def get_mse_naive(y, y_hat):\n",
    "    \"\"\"\n",
    "    Calculate the MSE with numpy functions\n",
    "    Do not use any sklearn functions\n",
    "    \n",
    "    y - Labels for the data\n",
    "    y_hat - Predicted label for the data\n",
    "    \n",
    "    return MSE\n",
    "    \"\"\"\n",
    "    return np.mean((y - y_hat)**2)\n",
    "\n",
    "def get_rmse_naive(y, y_hat):\n",
    "    \"\"\"\n",
    "    Calculate the RMSE with numpy functions\n",
    "    Do not use any sklearn functions\n",
    "    \n",
    "    y - Labels for the data\n",
    "    y_hat - Predicted label for the data\n",
    "    \n",
    "    return RMSE\n",
    "    \"\"\"\n",
    "    return np.sqrt(np.mean((y - y_hat)**2))\n",
    "\n",
    "def get_mse(y, y_hat):\n",
    "    \"\"\"\n",
    "    Calculate the MSE with sklearn functions\n",
    "    \n",
    "    y - Labels for the data\n",
    "    y_hat - Predicted label for the data\n",
    "    \n",
    "    Return MSE\n",
    "    \"\"\"\n",
    "    return mean_squared_error(y, y_hat)\n",
    "\n",
    "def get_rmse(y, y_hat):\n",
    "    \"\"\"\n",
    "    Calculate the RMSE with sklearn and numpy functions\n",
    "    \n",
    "    y - Labels for the data\n",
    "    y_hat - Predicted label for the data\n",
    "    \n",
    "    Return RMSE\n",
    "    \"\"\"\n",
    "    return np.sqrt(mean_squared_error(y, y_hat))"
   ]
  },
  {
   "cell_type": "markdown",
   "metadata": {},
   "source": [
    "Test your implementations with the following code:"
   ]
  },
  {
   "cell_type": "code",
   "execution_count": 21,
   "metadata": {},
   "outputs": [
    {
     "name": "stdout",
     "output_type": "stream",
     "text": [
      "Passed\n"
     ]
    }
   ],
   "source": [
    "y, y_hat = np.array([1, 2, 3]), np.array([2, 0, 3])\n",
    "assert np.isclose(get_mse_naive(y, y_hat), 1.6666666666666667), \"Got {} but expected 1.6666666666666667\".format(get_mse_naive(y, y_hat))\n",
    "assert np.isclose(get_rmse_naive(y, y_hat), 1.2909944487358056), \"Got {} but expected 1.2909944487358056\".format(get_rmse_naive(y, y_hat))\n",
    "assert np.isclose(get_mse(y, y_hat), 1.6666666666666667), \"Got {} but expected 1.6666666666666667\".format(get_mse(y, y_hat))\n",
    "assert np.isclose(get_rmse(y, y_hat), 1.2909944487358056), \"Got {} but expected 1.2909944487358056\".format(get_rmse(y, y_hat))\n",
    "print(\"Passed\")"
   ]
  },
  {
   "cell_type": "markdown",
   "metadata": {},
   "source": [
    "# Training Models\n",
    "\n",
    "Now we want to take the training data we set aside and use it to train models that can correctly identify the underlying pattern. Do not focus too much on the models we use for now; consider it a preview for the rest of this course.\n",
    "\n",
    "We will be evaluating the training error for each model, but remember that if we focus too much on lowering training data we might run into overfitting.\n",
    "\n",
    "### Linear Regression\n",
    "\n",
    "Ok let's put these functions to the test! Report the training error using MSE and RMSE with the LinearRegression model\n",
    "\n",
    "Try to get testing MSE below 200"
   ]
  },
  {
   "cell_type": "code",
   "execution_count": 22,
   "metadata": {},
   "outputs": [
    {
     "name": "stdout",
     "output_type": "stream",
     "text": [
      "Training MSE: 165.26641547980034\n",
      "Training RMSE: 12.855598604491366\n",
      "\n",
      "Testing MSE: 196.19033699326857\n",
      "Testing RMSE: 14.006796100224653\n"
     ]
    }
   ],
   "source": [
    "linear_reg_model = train_linear_regression(X_train, y_train)\n",
    "\n",
    "##### START How do you get predictions from the model? See sklearn examples for LinearRegression #####\n",
    "y_hat = linear_reg_model.predict(X_train)\n",
    "##### END #####\n",
    "\n",
    "print('Training MSE:', get_mse(y_train, y_hat)) #model might be underfitting\n",
    "print('Training RMSE:', get_rmse(y_train, y_hat)) #model might be underfitting\n",
    "\n",
    "##### START #####\n",
    "y_hat_test = linear_reg_model.predict(X_test)\n",
    "##### END #####\n",
    "print()\n",
    "print('Testing MSE:', get_mse(y_test, y_hat_test)) \n",
    "print('Testing RMSE:', get_rmse(y_test, y_hat_test))"
   ]
  },
  {
   "cell_type": "markdown",
   "metadata": {},
   "source": [
    "Let's see how we do with other models"
   ]
  },
  {
   "cell_type": "markdown",
   "metadata": {},
   "source": [
    "### SVR (the regression version of SVM)\n",
    "\n",
    "Last week, you looked at SVMs, another linear model. sklearn includes an implementation that explicitly does regression for us. It is [SVR](https://scikit-learn.org/stable/modules/generated/sklearn.svm.SVR.html). \n",
    "\n",
    "Complete the training step, which takes into account the parameters C and gamma that are passed into SVR()\n",
    "\n",
    "Try different hyperparameter values, for C and gamma, to minimize the MSE and RMSE.\n",
    "\n",
    "Try to get testing MSE below 200."
   ]
  },
  {
   "cell_type": "code",
   "execution_count": 23,
   "metadata": {},
   "outputs": [],
   "source": [
    "def train_SVR(X_train, y_train, gamma=0.2):\n",
    "    \"\"\"\n",
    "    X_train - Training data\n",
    "    y_train - Training labels\n",
    "    C - a hyperparameter for SVC, Regularization parameter\n",
    "    gamma - a hyperparameter for SVC, Kernel coefficient for ‘rbf’, ‘poly’ and ‘sigmoid’\n",
    "    \n",
    "    Return reg, an instance of LinearRegression.fit() that represents the trained model\n",
    "    \"\"\"\n",
    "    \n",
    "    ##### START #####\n",
    "    reg = SVR(kernel='rbf', gamma=gamma).fit(X_train, y_train.ravel())\n",
    "    ##### END #####\n",
    "    return reg"
   ]
  },
  {
   "cell_type": "code",
   "execution_count": 24,
   "metadata": {},
   "outputs": [
    {
     "name": "stdout",
     "output_type": "stream",
     "text": [
      "Training MSE: 138.25066504177514\n",
      "Training RMSE: 11.758004296723792\n",
      "\n",
      "Testing MSE: 180.82620687710846\n",
      "Testing RMSE: 13.447163525335315\n"
     ]
    }
   ],
   "source": [
    "svr_model = train_SVR(X_train, y_train, gamma=1e3)\n",
    "# C -> Regularization parameter\n",
    "# gamma -> Kernel coefficient for ‘rbf’, ‘poly’ and ‘sigmoid’\n",
    "# degree, default=3, Degree of the polynomial kernel function (‘poly’). Ignored by all other kernels.\n",
    "\n",
    "##### START How do you get predictions from the model? See sklearn examples for LinearRegression #####\n",
    "y_hat = svr_model.predict(X_train)\n",
    "##### END #####\n",
    "\n",
    "print('Training MSE:', get_mse(y_train, y_hat)) #model might be underfitting\n",
    "print('Training RMSE:', get_rmse(y_train, y_hat)) #model might be underfitting\n",
    "\n",
    "##### START #####\n",
    "y_hat_test = svr_model.predict(X_test)\n",
    "##### END #####\n",
    "print()\n",
    "print('Testing MSE:', get_mse(y_test, y_hat_test)) \n",
    "print('Testing RMSE:', get_rmse(y_test, y_hat_test))"
   ]
  },
  {
   "cell_type": "markdown",
   "metadata": {},
   "source": [
    "### Kernel Ridge Regression (rbf kernel)\n",
    "Hm, it seems like svr doesn't do much better than simple linear regression\n",
    "Let's try adjusting parameters for another model and see where that gets us.\n",
    "\n",
    "Your goal is to have testing MSE below 70."
   ]
  },
  {
   "cell_type": "code",
   "execution_count": 25,
   "metadata": {},
   "outputs": [],
   "source": [
    "def train_KernelRidge(X_train, y_train, gamma=0.2):\n",
    "    \"\"\"\n",
    "    X_train - Training data\n",
    "    y_train - Training labels\n",
    "    gamma - a hyperparameter for SVC, Kernel coefficient for ‘rbf’, ‘poly’ and ‘sigmoid’\n",
    "    \n",
    "    Return reg, an instance of LinearRegression.fit() that represents the trained model\n",
    "    \"\"\"\n",
    "    ##### START #####\n",
    "    reg = kernel_ridge.KernelRidge(kernel='rbf', gamma=gamma).fit(X_train, y_train.ravel())\n",
    "#     reg = kernel_ridge.KernelRidge(kernel='sigmoid', gamma=gamma).fit(X_train, y_train.ravel())\n",
    "    ##### END #####\n",
    "    return reg"
   ]
  },
  {
   "cell_type": "code",
   "execution_count": 26,
   "metadata": {},
   "outputs": [
    {
     "name": "stdout",
     "output_type": "stream",
     "text": [
      "Training MSE: 20.71999482478014\n",
      "Training RMSE: 4.551922102231116\n",
      "\n",
      "Testing MSE: 56.827434455633174\n",
      "Testing RMSE: 7.538397339994303\n"
     ]
    }
   ],
   "source": [
    "kernelRidge_model = train_KernelRidge(X_train, y_train, gamma=1e2)\n",
    "# gamma -> Kernel coefficient for ‘rbf’, ‘poly’ and ‘sigmoid’\n",
    "\n",
    "##### START How do you get predictions from the model? See sklearn examples for LinearRegression #####\n",
    "y_hat = kernelRidge_model.predict(X_train)\n",
    "##### END #####\n",
    "\n",
    "print('Training MSE:', get_mse(y_train, y_hat)) #model might be underfitting\n",
    "print('Training RMSE:', get_rmse(y_train, y_hat)) #model might be underfitting\n",
    "##### START #####\n",
    "y_hat_test = kernelRidge_model.predict(X_test)\n",
    "##### END #####\n",
    "print()\n",
    "print('Testing MSE:', get_mse(y_test, y_hat_test)) \n",
    "print('Testing RMSE:', get_rmse(y_test, y_hat_test))"
   ]
  },
  {
   "cell_type": "markdown",
   "metadata": {},
   "source": [
    "# Tuning the model\n",
    "\n",
    "Congrats! You have created base models for this fire area prediction problem. Now it is time to tune them to do better on the test set. \n",
    "\n",
    "### How do you actually make this model do better?"
   ]
  },
  {
   "cell_type": "markdown",
   "metadata": {},
   "source": [
    "# Are the models emphasizing the right features?\n",
    "\n",
    "Hint: Look at the distribution of the temperature histogram when we were sifting through the dataset above. How do we make the training distribution of the temperature datapoints roughly match that of the test dataset? "
   ]
  },
  {
   "cell_type": "code",
   "execution_count": 27,
   "metadata": {},
   "outputs": [],
   "source": [
    "def bootstrap(df, dup_column, min_underrep, max_underrep, duplicates=20):\n",
    "    \"\"\"\n",
    "    if temperature of this datapoint is in the underrepresented group, add it a few more times to the dataset\n",
    "    \"\"\"\n",
    "    result = df.copy()\n",
    "    underrep_df = df[(df[dup_column] >= min_underrep) & (df[dup_column] <= max_underrep)]\n",
    "    for __ in range(duplicates):\n",
    "        result = result.append(underrep_df)\n",
    "    return result"
   ]
  },
  {
   "cell_type": "code",
   "execution_count": 28,
   "metadata": {},
   "outputs": [
    {
     "data": {
      "text/html": [
       "<div>\n",
       "<style scoped>\n",
       "    .dataframe tbody tr th:only-of-type {\n",
       "        vertical-align: middle;\n",
       "    }\n",
       "\n",
       "    .dataframe tbody tr th {\n",
       "        vertical-align: top;\n",
       "    }\n",
       "\n",
       "    .dataframe thead th {\n",
       "        text-align: right;\n",
       "    }\n",
       "</style>\n",
       "<table border=\"1\" class=\"dataframe\">\n",
       "  <thead>\n",
       "    <tr style=\"text-align: right;\">\n",
       "      <th></th>\n",
       "      <th>X</th>\n",
       "      <th>Y</th>\n",
       "      <th>month</th>\n",
       "      <th>day</th>\n",
       "      <th>FFMC</th>\n",
       "      <th>DMC</th>\n",
       "      <th>DC</th>\n",
       "      <th>ISI</th>\n",
       "      <th>temp</th>\n",
       "      <th>RH</th>\n",
       "      <th>wind</th>\n",
       "      <th>rain</th>\n",
       "      <th>area</th>\n",
       "      <th>area_cat</th>\n",
       "      <th>temp_bins</th>\n",
       "    </tr>\n",
       "  </thead>\n",
       "  <tbody>\n",
       "    <tr>\n",
       "      <th>0</th>\n",
       "      <td>1</td>\n",
       "      <td>2</td>\n",
       "      <td>8</td>\n",
       "      <td>5</td>\n",
       "      <td>91.0</td>\n",
       "      <td>166.9</td>\n",
       "      <td>752.6</td>\n",
       "      <td>7.1</td>\n",
       "      <td>25.9</td>\n",
       "      <td>41</td>\n",
       "      <td>3.6</td>\n",
       "      <td>0.0</td>\n",
       "      <td>0.00</td>\n",
       "      <td>0-5</td>\n",
       "      <td>&gt;25</td>\n",
       "    </tr>\n",
       "    <tr>\n",
       "      <th>1</th>\n",
       "      <td>5</td>\n",
       "      <td>4</td>\n",
       "      <td>8</td>\n",
       "      <td>2</td>\n",
       "      <td>95.1</td>\n",
       "      <td>141.3</td>\n",
       "      <td>605.8</td>\n",
       "      <td>17.7</td>\n",
       "      <td>26.4</td>\n",
       "      <td>34</td>\n",
       "      <td>3.6</td>\n",
       "      <td>0.0</td>\n",
       "      <td>16.40</td>\n",
       "      <td>10-50</td>\n",
       "      <td>&gt;25</td>\n",
       "    </tr>\n",
       "    <tr>\n",
       "      <th>2</th>\n",
       "      <td>6</td>\n",
       "      <td>5</td>\n",
       "      <td>8</td>\n",
       "      <td>3</td>\n",
       "      <td>92.1</td>\n",
       "      <td>111.2</td>\n",
       "      <td>654.1</td>\n",
       "      <td>9.6</td>\n",
       "      <td>16.6</td>\n",
       "      <td>47</td>\n",
       "      <td>0.9</td>\n",
       "      <td>0.0</td>\n",
       "      <td>2.29</td>\n",
       "      <td>0-5</td>\n",
       "      <td>15-20</td>\n",
       "    </tr>\n",
       "    <tr>\n",
       "      <th>3</th>\n",
       "      <td>6</td>\n",
       "      <td>3</td>\n",
       "      <td>8</td>\n",
       "      <td>4</td>\n",
       "      <td>91.6</td>\n",
       "      <td>138.1</td>\n",
       "      <td>621.7</td>\n",
       "      <td>6.3</td>\n",
       "      <td>18.9</td>\n",
       "      <td>41</td>\n",
       "      <td>3.1</td>\n",
       "      <td>0.0</td>\n",
       "      <td>10.34</td>\n",
       "      <td>10-50</td>\n",
       "      <td>15-20</td>\n",
       "    </tr>\n",
       "    <tr>\n",
       "      <th>4</th>\n",
       "      <td>4</td>\n",
       "      <td>5</td>\n",
       "      <td>8</td>\n",
       "      <td>0</td>\n",
       "      <td>90.2</td>\n",
       "      <td>99.6</td>\n",
       "      <td>631.2</td>\n",
       "      <td>6.3</td>\n",
       "      <td>21.4</td>\n",
       "      <td>33</td>\n",
       "      <td>3.1</td>\n",
       "      <td>0.0</td>\n",
       "      <td>0.00</td>\n",
       "      <td>0-5</td>\n",
       "      <td>20-25</td>\n",
       "    </tr>\n",
       "  </tbody>\n",
       "</table>\n",
       "</div>"
      ],
      "text/plain": [
       "   X  Y  month  day  FFMC    DMC     DC   ISI  temp  RH  wind  rain   area  \\\n",
       "0  1  2      8    5  91.0  166.9  752.6   7.1  25.9  41   3.6   0.0   0.00   \n",
       "1  5  4      8    2  95.1  141.3  605.8  17.7  26.4  34   3.6   0.0  16.40   \n",
       "2  6  5      8    3  92.1  111.2  654.1   9.6  16.6  47   0.9   0.0   2.29   \n",
       "3  6  3      8    4  91.6  138.1  621.7   6.3  18.9  41   3.1   0.0  10.34   \n",
       "4  4  5      8    0  90.2   99.6  631.2   6.3  21.4  33   3.1   0.0   0.00   \n",
       "\n",
       "  area_cat temp_bins  \n",
       "0      0-5       >25  \n",
       "1    10-50       >25  \n",
       "2      0-5     15-20  \n",
       "3    10-50     15-20  \n",
       "4      0-5     20-25  "
      ]
     },
     "execution_count": 28,
     "metadata": {},
     "output_type": "execute_result"
    }
   ],
   "source": [
    "fire_df.head()"
   ]
  },
  {
   "cell_type": "code",
   "execution_count": 29,
   "metadata": {},
   "outputs": [
    {
     "data": {
      "text/plain": [
       "array([[<AxesSubplot:title={'center':'temp'}>]], dtype=object)"
      ]
     },
     "execution_count": 29,
     "metadata": {},
     "output_type": "execute_result"
    },
    {
     "data": {
      "image/png": "[encoded data removed]",
      "text/plain": [
       "<Figure size 576x396 with 1 Axes>"
      ]
     },
     "metadata": {},
     "output_type": "display_data"
    }
   ],
   "source": [
    "fire_df.hist(column='temp')"
   ]
  },
  {
   "cell_type": "code",
   "execution_count": 30,
   "metadata": {},
   "outputs": [
    {
     "data": {
      "text/plain": [
       "array([[<AxesSubplot:title={'center':'temp'}>]], dtype=object)"
      ]
     },
     "execution_count": 30,
     "metadata": {},
     "output_type": "execute_result"
    },
    {
     "data": {
      "image/png": "[encoded data removed]",
      "text/plain": [
       "<Figure size 576x396 with 1 Axes>"
      ]
     },
     "metadata": {},
     "output_type": "display_data"
    }
   ],
   "source": [
    "bootstrap(fire_df, 'temp', 30, 40, 20).hist(column='temp')"
   ]
  },
  {
   "cell_type": "markdown",
   "metadata": {},
   "source": [
    "# K-Fold Cross Validation\n",
    "\n",
    "An alternative to splitting out data into testing and training sections is k-fold cross validation. This will allow us to use all the data for testing and all the data for testing without mixing the sets at any one time. The only drawback is that we will have to do k times as much computation.\n",
    "\n",
    "How this works is we split the data into k equal sections, pick one of those sections for validation and the rest of the sections for training. We repeat this k times, each time picking a different section for the validation. After doing this k times, we average the errors and that is our estimation of true error.\n",
    "\n",
    "Since more data for training and testing helps us, this method should yield more accurate result with the only drawback being that we have to do k times as much computation to get our results.\n",
    "\n",
    "Now implement k-fold cross validation find a more accurate estimation of the true error of the models we have provided.\n",
    "\n",
    "Perhaps [sklearn.model_selection.KFold](https://scikit-learn.org/stable/modules/generated/sklearn.model_selection.KFold.html) would be useful."
   ]
  },
  {
   "cell_type": "code",
   "execution_count": 31,
   "metadata": {},
   "outputs": [],
   "source": [
    "def get_mse_with_k_fold(train_fn, gamma=1e0, gammaPresent=False):\n",
    "    ##### START #####\n",
    "    kf = KFold(n_splits=4)\n",
    "    mses = []\n",
    "    for train_index, val_index in kf.split(X_train):\n",
    "        X_train_new, y_train_new = X_train[train_index], y_train[train_index]\n",
    "        X_val, y_val = X_train[val_index], y_train[val_index]\n",
    "\n",
    "        reg = train_fn(X_train_new, y_train_new, gamma=gamma) if gammaPresent else train_fn(X_train_new, y_train_new)\n",
    "\n",
    "        y_hat = reg.predict(X_val)\n",
    "        mse = get_mse(y_val, y_hat)\n",
    "        mses.append(mse)\n",
    "\n",
    "    mse = np.mean(mses)\n",
    "    ##### END #####\n",
    "    return mse\n",
    "    "
   ]
  },
  {
   "cell_type": "code",
   "execution_count": 32,
   "metadata": {},
   "outputs": [
    {
     "name": "stdout",
     "output_type": "stream",
     "text": [
      "Linear: Average MSE with K-Fold Cross Validation: 166.66071610940682\n",
      "SVR: Average MSE with K-Fold Cross Validation: 153.86813064655988\n",
      "Kernel Ridge: Average MSE with K-Fold Cross Validation: 39.10523682904529\n"
     ]
    }
   ],
   "source": [
    "print(\"Linear: Average MSE with K-Fold Cross Validation:\", get_mse_with_k_fold(train_linear_regression))\n",
    "print(\"SVR: Average MSE with K-Fold Cross Validation:\", get_mse_with_k_fold(train_SVR, gamma=1e3, gammaPresent=True))\n",
    "print(\"Kernel Ridge: Average MSE with K-Fold Cross Validation:\", get_mse_with_k_fold(train_KernelRidge, gamma=1e2, gammaPresent=True))"
   ]
  },
  {
   "cell_type": "markdown",
   "metadata": {},
   "source": [
    "### The next section will show how the features with low training error correspond to the high test error.\n",
    "Low training error with high test error indicates that there is overfitting which usually is related to having too much variance in our features. This means the features are fitting noise in the data instead of the underlying pattern that generated the data.\n",
    "\n",
    "# Measuring the Bias and Variance of Your Model\n",
    "\n",
    "Is the model doing well?\n",
    "\n",
    "As noted in lecture, bias is generally expressed as a model's tendency to approximate certain functions even if conflicting features are in the training set, and variance is generally expressed as a model's difference in performance on the test set given a different training set. Also remember the irreducible error is that which cannot be eliminated because it is in our inherently noisy measurements of the labels.\n",
    "\n",
    "A mathematical formulation is below:\n",
    "\n",
    "$$\\text{Total Noise} = \\underbrace{(E[h(x|D)] - f(x))^2}_\\text{Bias} + \\underbrace{Var(h(x|D))}_\\text{Variance} + \\underbrace{Var(Z)}_\\text{Irreducible Noise}$$\n",
    "\n",
    "where *h(x|D)* is the model's prediction given a training dataset, *f(x)* is the true label, and *Z* is the inherent noise in the labels. These terms are bias, variance, and irreducible error, respectively. A detailed derivation can be found [here](https://www.eecs189.org/static/notes/n5.pdf) or in the notes.\n",
    "\n",
    "## The Game Plan - Calculating Bias and Variance\n",
    "\n",
    "1. Since these values are evaluated over many different training datasets, let's structure this like k-fold cross validation so we can randomly sample datasets. Perhaps, you can use [sklearn.model_selection.KFold](https://scikit-learn.org/stable/modules/generated/sklearn.model_selection.KFold.html).\n",
    "**NOTE:** `X_test` must be the same for all datasets for the bias variance measurement corresponding to the above to be correct.\n",
    "\n",
    "2. For each of the `k` splits, \n",
    " - train your model using your selected features\n",
    " - record predictions for each test datapoint `x`\n",
    "\n",
    "3. After gathering the above information, average the predicted label over the `k` splits for each input `x` to obtain *E[h(x|D)]* and combine with the appropriate `y` label *f(x)*. Average these values over inputs `x` to get the bias\n",
    "\n",
    "4. Compute the variance of predictions for each input `x`. Then average over inputs `x` to get the variance *Var(h(x|D))*\n",
    "\n",
    "### What is the bias of your model? The variance? "
   ]
  },
  {
   "cell_type": "code",
   "execution_count": 33,
   "metadata": {},
   "outputs": [],
   "source": [
    "# TODO this  function is COMPLETELY untested\n",
    "\n",
    "def get_bias_variance(X, y, train_fn, gamma=1e3, gammaPresent=False):\n",
    "    \"\"\"\n",
    "    X- the original training data\n",
    "    y- the labels for the original training data\n",
    "    train_fn- the function to train a model\n",
    "    \"\"\"\n",
    "    \n",
    "    predictions = []\n",
    "    true_labels = []\n",
    "\n",
    "    ##### START STEP 1 #####\n",
    "    n_rest = int(X.shape[0] * 0.75)\n",
    "    X_rest, X_test = X[:n_rest], X[n_rest:]\n",
    "    y_rest, y_test = y[:n_rest], y[n_rest:]\n",
    "    \n",
    "    kf = sk.model_selection.KFold(n_splits=4)\n",
    "    for train_index, test_index in kf.split(X_rest):\n",
    "        X_train, y_train = X[train_index], y[train_index]\n",
    "    ##### END STEP 1 #####\n",
    "        ##### START STEP 2 #####\n",
    "        reg = train_fn(X_train, y_train, gamma=gamma) if gammaPresent else train_fn(X_train, y_train)\n",
    "        predictions.append(reg.predict(X_test))\n",
    "        true_labels.append(y_test)\n",
    "        ##### END STEP 2 #####\n",
    "    \n",
    "    ##### START STEP 3 #####\n",
    "    bias = np.mean((np.mean(predictions, axis=0) - true_labels[0])**2)\n",
    "    ##### END STEP 3 #####\n",
    "    \n",
    "    ##### START STEP 4 #####\n",
    "    variance = np.std(np.mean(predictions, axis=0))\n",
    "    ##### END STEP 4 #####\n",
    "    \n",
    "    return bias, variance"
   ]
  },
  {
   "cell_type": "code",
   "execution_count": 34,
   "metadata": {},
   "outputs": [
    {
     "name": "stdout",
     "output_type": "stream",
     "text": [
      "Linear Bias: 118.78296294955916\n",
      "Linear Variance: 2.418804401100786\n",
      "\n",
      "SVR Bias: 118.36449155379309\n",
      "SVR Variance: 1.5127233372809137\n",
      "\n",
      "Kernel Ridge Bias: 91.06846615090575\n",
      "Kernel Ridge Variance: 6.038121856392359\n"
     ]
    }
   ],
   "source": [
    "linearBias, linearVariance = get_bias_variance(X_train, y_train, train_linear_regression)\n",
    "print(\"Linear Bias:\", linearBias)\n",
    "print(\"Linear Variance:\", linearVariance)\n",
    "print()\n",
    "\n",
    "svrBias, svrVariance = get_bias_variance(X_train, y_train, train_SVR, 1e0, True)\n",
    "print(\"SVR Bias:\", svrBias)\n",
    "print(\"SVR Variance:\", svrVariance)\n",
    "print()\n",
    "\n",
    "kernelRidgeBias, kernelRidgeVariance = get_bias_variance(X_train, y_train, train_KernelRidge, 1e0, True)\n",
    "print(\"Kernel Ridge Bias:\", kernelRidgeBias)\n",
    "print(\"Kernel Ridge Variance:\", kernelRidgeVariance)"
   ]
  },
  {
   "cell_type": "markdown",
   "metadata": {},
   "source": [
    "# When the dataset is biased\n",
    "\n",
    "Not only does the choice of model affect the accuracy of your system, but also the distribution of the dataset. Let's look at this biased dataset below. For example, plot the distribution hi"
   ]
  },
  {
   "cell_type": "code",
   "execution_count": 40,
   "metadata": {},
   "outputs": [
    {
     "data": {
      "text/html": [
       "<div>\n",
       "<style scoped>\n",
       "    .dataframe tbody tr th:only-of-type {\n",
       "        vertical-align: middle;\n",
       "    }\n",
       "\n",
       "    .dataframe tbody tr th {\n",
       "        vertical-align: top;\n",
       "    }\n",
       "\n",
       "    .dataframe thead th {\n",
       "        text-align: right;\n",
       "    }\n",
       "</style>\n",
       "<table border=\"1\" class=\"dataframe\">\n",
       "  <thead>\n",
       "    <tr style=\"text-align: right;\">\n",
       "      <th></th>\n",
       "      <th>X</th>\n",
       "      <th>Y</th>\n",
       "      <th>month</th>\n",
       "      <th>day</th>\n",
       "      <th>FFMC</th>\n",
       "      <th>DMC</th>\n",
       "      <th>DC</th>\n",
       "      <th>ISI</th>\n",
       "      <th>temp</th>\n",
       "      <th>RH</th>\n",
       "      <th>wind</th>\n",
       "      <th>rain</th>\n",
       "      <th>area</th>\n",
       "      <th>area_cat</th>\n",
       "      <th>temp_bins</th>\n",
       "    </tr>\n",
       "  </thead>\n",
       "  <tbody>\n",
       "    <tr>\n",
       "      <th>0</th>\n",
       "      <td>8</td>\n",
       "      <td>6</td>\n",
       "      <td>8</td>\n",
       "      <td>4</td>\n",
       "      <td>91.6</td>\n",
       "      <td>248.4</td>\n",
       "      <td>753.8</td>\n",
       "      <td>6.3</td>\n",
       "      <td>20.4</td>\n",
       "      <td>56</td>\n",
       "      <td>2.2</td>\n",
       "      <td>0.0</td>\n",
       "      <td>0.00</td>\n",
       "      <td>0-5</td>\n",
       "      <td>20-25</td>\n",
       "    </tr>\n",
       "    <tr>\n",
       "      <th>1</th>\n",
       "      <td>1</td>\n",
       "      <td>4</td>\n",
       "      <td>9</td>\n",
       "      <td>5</td>\n",
       "      <td>92.5</td>\n",
       "      <td>122.0</td>\n",
       "      <td>789.7</td>\n",
       "      <td>10.2</td>\n",
       "      <td>21.1</td>\n",
       "      <td>39</td>\n",
       "      <td>2.2</td>\n",
       "      <td>0.0</td>\n",
       "      <td>8.12</td>\n",
       "      <td>5-10</td>\n",
       "      <td>20-25</td>\n",
       "    </tr>\n",
       "    <tr>\n",
       "      <th>2</th>\n",
       "      <td>6</td>\n",
       "      <td>3</td>\n",
       "      <td>9</td>\n",
       "      <td>0</td>\n",
       "      <td>93.5</td>\n",
       "      <td>149.3</td>\n",
       "      <td>728.6</td>\n",
       "      <td>8.1</td>\n",
       "      <td>22.8</td>\n",
       "      <td>39</td>\n",
       "      <td>3.6</td>\n",
       "      <td>0.0</td>\n",
       "      <td>0.00</td>\n",
       "      <td>0-5</td>\n",
       "      <td>20-25</td>\n",
       "    </tr>\n",
       "    <tr>\n",
       "      <th>3</th>\n",
       "      <td>6</td>\n",
       "      <td>3</td>\n",
       "      <td>9</td>\n",
       "      <td>1</td>\n",
       "      <td>91.5</td>\n",
       "      <td>130.1</td>\n",
       "      <td>807.1</td>\n",
       "      <td>7.5</td>\n",
       "      <td>12.2</td>\n",
       "      <td>66</td>\n",
       "      <td>4.9</td>\n",
       "      <td>0.0</td>\n",
       "      <td>6.10</td>\n",
       "      <td>5-10</td>\n",
       "      <td>0-15</td>\n",
       "    </tr>\n",
       "    <tr>\n",
       "      <th>4</th>\n",
       "      <td>4</td>\n",
       "      <td>3</td>\n",
       "      <td>9</td>\n",
       "      <td>0</td>\n",
       "      <td>90.5</td>\n",
       "      <td>96.7</td>\n",
       "      <td>750.5</td>\n",
       "      <td>11.4</td>\n",
       "      <td>20.4</td>\n",
       "      <td>55</td>\n",
       "      <td>4.9</td>\n",
       "      <td>0.0</td>\n",
       "      <td>3.64</td>\n",
       "      <td>0-5</td>\n",
       "      <td>20-25</td>\n",
       "    </tr>\n",
       "  </tbody>\n",
       "</table>\n",
       "</div>"
      ],
      "text/plain": [
       "   X  Y  month  day  FFMC    DMC     DC   ISI  temp  RH  wind  rain  area  \\\n",
       "0  8  6      8    4  91.6  248.4  753.8   6.3  20.4  56   2.2   0.0  0.00   \n",
       "1  1  4      9    5  92.5  122.0  789.7  10.2  21.1  39   2.2   0.0  8.12   \n",
       "2  6  3      9    0  93.5  149.3  728.6   8.1  22.8  39   3.6   0.0  0.00   \n",
       "3  6  3      9    1  91.5  130.1  807.1   7.5  12.2  66   4.9   0.0  6.10   \n",
       "4  4  3      9    0  90.5   96.7  750.5  11.4  20.4  55   4.9   0.0  3.64   \n",
       "\n",
       "  area_cat temp_bins  \n",
       "0      0-5     20-25  \n",
       "1     5-10     20-25  \n",
       "2      0-5     20-25  \n",
       "3     5-10      0-15  \n",
       "4      0-5     20-25  "
      ]
     },
     "execution_count": 40,
     "metadata": {},
     "output_type": "execute_result"
    }
   ],
   "source": [
    "biased_fire_df = pd.read_csv('../scratchwork/train_set_v1.csv')\n",
    "biased_fire_df.head()"
   ]
  },
  {
   "cell_type": "markdown",
   "metadata": {},
   "source": [
    "# Final Model Selection!\n",
    "\n",
    "Given your insights from above, continue to tune your model until your MSE is less than 20 on the validation set we provide to you. Then report your accuracy on the test set. "
   ]
  },
  {
   "cell_type": "code",
   "execution_count": 35,
   "metadata": {},
   "outputs": [],
   "source": [
    "# names = ['temp_bins', 'area_cat'], keys = ['>25', '0-5']\n",
    "def filter_df(df, names, keys):\n",
    "    \n",
    "    if len(keys) == 2:\n",
    "    \n",
    "        ret = df[(df[names[0]] == keys[0]) & (df[names[1]] == keys[1])]\n",
    "    \n",
    "    else:\n",
    "        \n",
    "        ret = df[df[names[0]] == keys[0]]\n",
    "        \n",
    "    \n",
    "    return ret"
   ]
  },
  {
   "cell_type": "code",
   "execution_count": 36,
   "metadata": {},
   "outputs": [
    {
     "data": {
      "text/html": [
       "<div>\n",
       "<style scoped>\n",
       "    .dataframe tbody tr th:only-of-type {\n",
       "        vertical-align: middle;\n",
       "    }\n",
       "\n",
       "    .dataframe tbody tr th {\n",
       "        vertical-align: top;\n",
       "    }\n",
       "\n",
       "    .dataframe thead th {\n",
       "        text-align: right;\n",
       "    }\n",
       "</style>\n",
       "<table border=\"1\" class=\"dataframe\">\n",
       "  <thead>\n",
       "    <tr style=\"text-align: right;\">\n",
       "      <th></th>\n",
       "      <th>X</th>\n",
       "      <th>Y</th>\n",
       "      <th>month</th>\n",
       "      <th>day</th>\n",
       "      <th>FFMC</th>\n",
       "      <th>DMC</th>\n",
       "      <th>DC</th>\n",
       "      <th>ISI</th>\n",
       "      <th>temp</th>\n",
       "      <th>RH</th>\n",
       "      <th>wind</th>\n",
       "      <th>rain</th>\n",
       "      <th>area</th>\n",
       "      <th>area_cat</th>\n",
       "      <th>temp_bins</th>\n",
       "    </tr>\n",
       "  </thead>\n",
       "  <tbody>\n",
       "    <tr>\n",
       "      <th>4</th>\n",
       "      <td>4</td>\n",
       "      <td>5</td>\n",
       "      <td>8</td>\n",
       "      <td>0</td>\n",
       "      <td>90.2</td>\n",
       "      <td>99.6</td>\n",
       "      <td>631.2</td>\n",
       "      <td>6.3</td>\n",
       "      <td>21.4</td>\n",
       "      <td>33</td>\n",
       "      <td>3.1</td>\n",
       "      <td>0.0</td>\n",
       "      <td>0.00</td>\n",
       "      <td>0-5</td>\n",
       "      <td>20-25</td>\n",
       "    </tr>\n",
       "    <tr>\n",
       "      <th>5</th>\n",
       "      <td>9</td>\n",
       "      <td>9</td>\n",
       "      <td>8</td>\n",
       "      <td>5</td>\n",
       "      <td>94.8</td>\n",
       "      <td>227.0</td>\n",
       "      <td>706.7</td>\n",
       "      <td>12.0</td>\n",
       "      <td>25.0</td>\n",
       "      <td>36</td>\n",
       "      <td>4.0</td>\n",
       "      <td>0.0</td>\n",
       "      <td>0.00</td>\n",
       "      <td>0-5</td>\n",
       "      <td>20-25</td>\n",
       "    </tr>\n",
       "    <tr>\n",
       "      <th>6</th>\n",
       "      <td>4</td>\n",
       "      <td>4</td>\n",
       "      <td>8</td>\n",
       "      <td>2</td>\n",
       "      <td>96.1</td>\n",
       "      <td>181.1</td>\n",
       "      <td>671.2</td>\n",
       "      <td>14.3</td>\n",
       "      <td>20.7</td>\n",
       "      <td>69</td>\n",
       "      <td>4.9</td>\n",
       "      <td>0.4</td>\n",
       "      <td>0.00</td>\n",
       "      <td>0-5</td>\n",
       "      <td>20-25</td>\n",
       "    </tr>\n",
       "    <tr>\n",
       "      <th>7</th>\n",
       "      <td>2</td>\n",
       "      <td>4</td>\n",
       "      <td>8</td>\n",
       "      <td>2</td>\n",
       "      <td>94.8</td>\n",
       "      <td>108.3</td>\n",
       "      <td>647.1</td>\n",
       "      <td>17.0</td>\n",
       "      <td>20.1</td>\n",
       "      <td>40</td>\n",
       "      <td>4.0</td>\n",
       "      <td>0.0</td>\n",
       "      <td>0.00</td>\n",
       "      <td>0-5</td>\n",
       "      <td>20-25</td>\n",
       "    </tr>\n",
       "    <tr>\n",
       "      <th>8</th>\n",
       "      <td>2</td>\n",
       "      <td>5</td>\n",
       "      <td>8</td>\n",
       "      <td>5</td>\n",
       "      <td>93.9</td>\n",
       "      <td>135.7</td>\n",
       "      <td>586.7</td>\n",
       "      <td>15.1</td>\n",
       "      <td>23.5</td>\n",
       "      <td>36</td>\n",
       "      <td>5.4</td>\n",
       "      <td>0.0</td>\n",
       "      <td>10.02</td>\n",
       "      <td>10-50</td>\n",
       "      <td>20-25</td>\n",
       "    </tr>\n",
       "  </tbody>\n",
       "</table>\n",
       "</div>"
      ],
      "text/plain": [
       "   X  Y  month  day  FFMC    DMC     DC   ISI  temp  RH  wind  rain   area  \\\n",
       "4  4  5      8    0  90.2   99.6  631.2   6.3  21.4  33   3.1   0.0   0.00   \n",
       "5  9  9      8    5  94.8  227.0  706.7  12.0  25.0  36   4.0   0.0   0.00   \n",
       "6  4  4      8    2  96.1  181.1  671.2  14.3  20.7  69   4.9   0.4   0.00   \n",
       "7  2  4      8    2  94.8  108.3  647.1  17.0  20.1  40   4.0   0.0   0.00   \n",
       "8  2  5      8    5  93.9  135.7  586.7  15.1  23.5  36   5.4   0.0  10.02   \n",
       "\n",
       "  area_cat temp_bins  \n",
       "4      0-5     20-25  \n",
       "5      0-5     20-25  \n",
       "6      0-5     20-25  \n",
       "7      0-5     20-25  \n",
       "8    10-50     20-25  "
      ]
     },
     "execution_count": 36,
     "metadata": {},
     "output_type": "execute_result"
    }
   ],
   "source": [
    "raw = pd.read_csv('raw_df.csv')\n",
    "\n",
    "# raw.head()\n",
    "high_temp_low_area = filter_df(raw, ['temp_bins'], ['20-25'])\n",
    "\n",
    "high_temp_low_area.head()"
   ]
  },
  {
   "cell_type": "code",
   "execution_count": null,
   "metadata": {},
   "outputs": [],
   "source": []
  },
  {
   "cell_type": "code",
   "execution_count": null,
   "metadata": {},
   "outputs": [],
   "source": []
  }
 ],
 "metadata": {
  "kernelspec": {
   "display_name": "Python 3",
   "language": "python",
   "name": "python3"
  },
  "language_info": {
   "codemirror_mode": {
    "name": "ipython",
    "version": 3
   },
   "file_extension": ".py",
   "mimetype": "text/x-python",
   "name": "python",
   "nbconvert_exporter": "python",
   "pygments_lexer": "ipython3",
   "version": "3.8.5"
  }
 },
 "nbformat": 4,
 "nbformat_minor": 4
}
