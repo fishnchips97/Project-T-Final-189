{
 "cells": [
  {
   "cell_type": "code",
   "execution_count": 20,
   "metadata": {},
   "outputs": [],
   "source": [
    "# data organization libraries\n",
    "import numpy as np\n",
    "import pandas as pd\n",
    "\n",
    "# data visualization libraries\n",
    "import plotly.express as px\n",
    "import matplotlib.pyplot as plt\n",
    "import seaborn as sns\n",
    "\n",
    "# modeling libraries\n",
    "from sklearn.linear_model import LinearRegression\n"
   ]
  },
  {
   "cell_type": "code",
   "execution_count": 21,
   "metadata": {},
   "outputs": [],
   "source": [
    "# test train eval v1\n",
    "\n",
    "test_v2 = pd.read_csv('test_set_v2.csv')\n",
    "\n",
    "train_v1 = pd.read_csv('train_set_v1.csv')"
   ]
  },
  {
   "cell_type": "code",
   "execution_count": null,
   "metadata": {},
   "outputs": [],
   "source": []
  },
  {
   "cell_type": "code",
   "execution_count": 22,
   "metadata": {},
   "outputs": [],
   "source": [
    "fires = pd.read_csv('raw_df.csv')\n",
    "\n"
   ]
  },
  {
   "cell_type": "code",
   "execution_count": 23,
   "metadata": {},
   "outputs": [],
   "source": [
    "\n",
    "# need to split data into X(features) and y(response)"
   ]
  },
  {
   "cell_type": "code",
   "execution_count": 24,
   "metadata": {},
   "outputs": [],
   "source": [
    "def df_to_array(df, features, target):\n",
    "    X_df = df.iloc[:, features]\n",
    "    \n",
    "    X = X_df.to_numpy()\n",
    "    \n",
    "    y_df = df.iloc[:, target]\n",
    "    \n",
    "    y = y_df.to_numpy()\n",
    "    \n",
    "    y = y.flatten()\n",
    "    \n",
    "    return X, y"
   ]
  },
  {
   "cell_type": "code",
   "execution_count": 25,
   "metadata": {},
   "outputs": [],
   "source": [
    "feats = [0,1,2,3,4,5,6,7,8,9,10,11]\n",
    "\n",
    "targ = [12]"
   ]
  },
  {
   "cell_type": "code",
   "execution_count": 26,
   "metadata": {},
   "outputs": [],
   "source": [
    "# to array\n",
    "X_tr_v1, y_tr_v1 = df_to_array(train_v1, feats, targ)\n"
   ]
  },
  {
   "cell_type": "code",
   "execution_count": 27,
   "metadata": {},
   "outputs": [],
   "source": [
    "# mod v1\n",
    "model_v1 = LinearRegression().fit(X_tr_v1, y_tr_v1)\n",
    "\n"
   ]
  },
  {
   "cell_type": "code",
   "execution_count": 28,
   "metadata": {},
   "outputs": [],
   "source": [
    "# get test\n",
    "X_te_v1, y_te_v1 = df_to_array(test_v2, feats, targ)\n"
   ]
  },
  {
   "cell_type": "code",
   "execution_count": 29,
   "metadata": {},
   "outputs": [],
   "source": [
    "# predict\n",
    "\n",
    "y_h_v1 = model_v1.predict(X_te_v1)\n",
    "\n"
   ]
  },
  {
   "cell_type": "code",
   "execution_count": 30,
   "metadata": {},
   "outputs": [
    {
     "data": {
      "text/plain": [
       "188.5636375419055"
      ]
     },
     "execution_count": 30,
     "metadata": {},
     "output_type": "execute_result"
    }
   ],
   "source": [
    "# error\n",
    "from sklearn.metrics import mean_squared_error\n",
    "\n",
    "error_v1 = mean_squared_error(y_te_v1, y_h_v1)\n",
    "\n",
    "error_v1"
   ]
  },
  {
   "cell_type": "code",
   "execution_count": 7,
   "metadata": {},
   "outputs": [],
   "source": [
    "# lets do a simple test train split using sklearn\n",
    "from sklearn.model_selection import train_test_split\n"
   ]
  },
  {
   "cell_type": "code",
   "execution_count": 6,
   "metadata": {},
   "outputs": [],
   "source": [
    "# to array\n",
    "X, y = df_to_array(fires, feats, targ)"
   ]
  },
  {
   "cell_type": "code",
   "execution_count": 8,
   "metadata": {},
   "outputs": [
    {
     "data": {
      "text/plain": [
       "((2652, 12), (2652,))"
      ]
     },
     "execution_count": 8,
     "metadata": {},
     "output_type": "execute_result"
    }
   ],
   "source": [
    "# pre split\n",
    "X.shape, y.shape"
   ]
  },
  {
   "cell_type": "code",
   "execution_count": 9,
   "metadata": {},
   "outputs": [],
   "source": [
    "# split\n",
    "X_train, X_test, y_train, y_test = train_test_split(\n",
    "    X, y, test_size=0.2, random_state=0)"
   ]
  },
  {
   "cell_type": "code",
   "execution_count": 10,
   "metadata": {},
   "outputs": [
    {
     "data": {
      "text/plain": [
       "((2121, 12), (2121,))"
      ]
     },
     "execution_count": 10,
     "metadata": {},
     "output_type": "execute_result"
    }
   ],
   "source": [
    "# post split\n",
    "X_train.shape, y_train.shape"
   ]
  },
  {
   "cell_type": "code",
   "execution_count": 11,
   "metadata": {},
   "outputs": [
    {
     "data": {
      "text/plain": [
       "((531, 12), (531,))"
      ]
     },
     "execution_count": 11,
     "metadata": {},
     "output_type": "execute_result"
    }
   ],
   "source": [
    "# post split\n",
    "X_test.shape, y_test.shape"
   ]
  },
  {
   "cell_type": "code",
   "execution_count": 12,
   "metadata": {},
   "outputs": [
    {
     "data": {
      "text/plain": [
       "200.66535864299453"
      ]
     },
     "execution_count": 12,
     "metadata": {},
     "output_type": "execute_result"
    }
   ],
   "source": [
    "# fit train\n",
    "model = LinearRegression().fit(X_train, y_train)\n",
    "\n",
    "# predict\n",
    "y_hat = model.predict(X_test)\n",
    "\n",
    "# error\n",
    "\n",
    "from sklearn.metrics import mean_squared_error\n",
    "\n",
    "error = mean_squared_error(y_test, y_hat)\n",
    "\n",
    "error"
   ]
  },
  {
   "cell_type": "code",
   "execution_count": 13,
   "metadata": {},
   "outputs": [
    {
     "data": {
      "text/html": [
       "<div>\n",
       "<style scoped>\n",
       "    .dataframe tbody tr th:only-of-type {\n",
       "        vertical-align: middle;\n",
       "    }\n",
       "\n",
       "    .dataframe tbody tr th {\n",
       "        vertical-align: top;\n",
       "    }\n",
       "\n",
       "    .dataframe thead th {\n",
       "        text-align: right;\n",
       "    }\n",
       "</style>\n",
       "<table border=\"1\" class=\"dataframe\">\n",
       "  <thead>\n",
       "    <tr style=\"text-align: right;\">\n",
       "      <th></th>\n",
       "      <th>X</th>\n",
       "      <th>Y</th>\n",
       "      <th>month</th>\n",
       "      <th>day</th>\n",
       "      <th>FFMC</th>\n",
       "      <th>DMC</th>\n",
       "      <th>DC</th>\n",
       "      <th>ISI</th>\n",
       "      <th>temp</th>\n",
       "      <th>RH</th>\n",
       "      <th>wind</th>\n",
       "      <th>rain</th>\n",
       "      <th>area</th>\n",
       "      <th>area_cat</th>\n",
       "      <th>temp_bins</th>\n",
       "    </tr>\n",
       "  </thead>\n",
       "  <tbody>\n",
       "    <tr>\n",
       "      <th>0</th>\n",
       "      <td>7</td>\n",
       "      <td>5</td>\n",
       "      <td>9</td>\n",
       "      <td>6</td>\n",
       "      <td>92.5</td>\n",
       "      <td>88.0</td>\n",
       "      <td>698.6</td>\n",
       "      <td>7.1</td>\n",
       "      <td>17.8</td>\n",
       "      <td>51</td>\n",
       "      <td>7.2</td>\n",
       "      <td>0.0</td>\n",
       "      <td>0.00</td>\n",
       "      <td>0-5</td>\n",
       "      <td>15-20</td>\n",
       "    </tr>\n",
       "    <tr>\n",
       "      <th>1</th>\n",
       "      <td>3</td>\n",
       "      <td>6</td>\n",
       "      <td>9</td>\n",
       "      <td>1</td>\n",
       "      <td>90.9</td>\n",
       "      <td>126.5</td>\n",
       "      <td>686.5</td>\n",
       "      <td>7.0</td>\n",
       "      <td>15.6</td>\n",
       "      <td>66</td>\n",
       "      <td>3.1</td>\n",
       "      <td>0.0</td>\n",
       "      <td>0.00</td>\n",
       "      <td>0-5</td>\n",
       "      <td>15-20</td>\n",
       "    </tr>\n",
       "    <tr>\n",
       "      <th>2</th>\n",
       "      <td>4</td>\n",
       "      <td>4</td>\n",
       "      <td>3</td>\n",
       "      <td>6</td>\n",
       "      <td>91.7</td>\n",
       "      <td>35.8</td>\n",
       "      <td>80.8</td>\n",
       "      <td>7.8</td>\n",
       "      <td>17.0</td>\n",
       "      <td>27</td>\n",
       "      <td>4.9</td>\n",
       "      <td>0.0</td>\n",
       "      <td>28.66</td>\n",
       "      <td>10-50</td>\n",
       "      <td>15-20</td>\n",
       "    </tr>\n",
       "    <tr>\n",
       "      <th>3</th>\n",
       "      <td>4</td>\n",
       "      <td>3</td>\n",
       "      <td>9</td>\n",
       "      <td>5</td>\n",
       "      <td>90.3</td>\n",
       "      <td>290.0</td>\n",
       "      <td>855.3</td>\n",
       "      <td>7.4</td>\n",
       "      <td>19.9</td>\n",
       "      <td>44</td>\n",
       "      <td>3.1</td>\n",
       "      <td>0.0</td>\n",
       "      <td>7.80</td>\n",
       "      <td>5-10</td>\n",
       "      <td>15-20</td>\n",
       "    </tr>\n",
       "    <tr>\n",
       "      <th>4</th>\n",
       "      <td>7</td>\n",
       "      <td>4</td>\n",
       "      <td>9</td>\n",
       "      <td>4</td>\n",
       "      <td>89.7</td>\n",
       "      <td>287.2</td>\n",
       "      <td>849.3</td>\n",
       "      <td>6.8</td>\n",
       "      <td>19.4</td>\n",
       "      <td>45</td>\n",
       "      <td>3.6</td>\n",
       "      <td>0.0</td>\n",
       "      <td>0.00</td>\n",
       "      <td>0-5</td>\n",
       "      <td>15-20</td>\n",
       "    </tr>\n",
       "  </tbody>\n",
       "</table>\n",
       "</div>"
      ],
      "text/plain": [
       "   X  Y  month  day  FFMC    DMC     DC  ISI  temp  RH  wind  rain   area  \\\n",
       "0  7  5      9    6  92.5   88.0  698.6  7.1  17.8  51   7.2   0.0   0.00   \n",
       "1  3  6      9    1  90.9  126.5  686.5  7.0  15.6  66   3.1   0.0   0.00   \n",
       "2  4  4      3    6  91.7   35.8   80.8  7.8  17.0  27   4.9   0.0  28.66   \n",
       "3  4  3      9    5  90.3  290.0  855.3  7.4  19.9  44   3.1   0.0   7.80   \n",
       "4  7  4      9    4  89.7  287.2  849.3  6.8  19.4  45   3.6   0.0   0.00   \n",
       "\n",
       "  area_cat temp_bins  \n",
       "0      0-5     15-20  \n",
       "1      0-5     15-20  \n",
       "2    10-50     15-20  \n",
       "3     5-10     15-20  \n",
       "4      0-5     15-20  "
      ]
     },
     "execution_count": 13,
     "metadata": {},
     "output_type": "execute_result"
    }
   ],
   "source": [
    "# download baised test set\n",
    "\n",
    "test_set = pd.read_csv('test_set_v1.csv')\n",
    "\n",
    "test_set.head()"
   ]
  },
  {
   "cell_type": "code",
   "execution_count": 14,
   "metadata": {},
   "outputs": [
    {
     "data": {
      "text/plain": [
       "((300, 12), (300,))"
      ]
     },
     "execution_count": 14,
     "metadata": {},
     "output_type": "execute_result"
    }
   ],
   "source": [
    "# split test set\n",
    "\n",
    "X_t, y_t = df_to_array(test_set, feats, targ)\n",
    "\n",
    "X_t.shape, y_t.shape"
   ]
  },
  {
   "cell_type": "code",
   "execution_count": 15,
   "metadata": {},
   "outputs": [
    {
     "data": {
      "text/plain": [
       "140.49854416214424"
      ]
     },
     "execution_count": 15,
     "metadata": {},
     "output_type": "execute_result"
    }
   ],
   "source": [
    "# error on biased test set\n",
    "y_hat_t = model.predict(X_t)\n",
    "\n",
    "error_test = mean_squared_error(y_t, y_hat_t)\n",
    "\n",
    "error_test"
   ]
  },
  {
   "cell_type": "code",
   "execution_count": 16,
   "metadata": {},
   "outputs": [],
   "source": [
    "# need to change 1d y to 2d for fitting\n",
    "y_train = y_train.reshape(len(y_train), 1)\n",
    "\n",
    "# normalize, i.e. standard scalar\n",
    "from sklearn.preprocessing import StandardScaler\n",
    "\n",
    "# scale output\n",
    "sc_y = StandardScaler()\n",
    "\n",
    "sc_y.fit(y_train)\n",
    "\n",
    "ys_train = sc_y.transform(y_train)\n",
    "\n",
    "#scale input\n",
    "\n",
    "sc_x = StandardScaler()\n",
    "\n",
    "# fit scalar\n",
    "\n",
    "sc_x.fit(X_train)\n",
    "\n",
    "# standardize X_train and X_test\n",
    "\n",
    "Xs_train = sc_x.transform(X_train)\n",
    "\n",
    "Xs_test = sc_x.transform(X_test)\n",
    "\n",
    "# fit with scalar\n",
    "mod_sc = LinearRegression().fit(Xs_train, ys_train)\n",
    "\n",
    "# predict with scalar\n",
    "\n",
    "y_hat_sc = mod_sc.predict(Xs_test)\n",
    "\n",
    "\n",
    "# scale back\n",
    "\n",
    "y_preds = sc_y.inverse_transform(y_hat_sc)"
   ]
  },
  {
   "cell_type": "code",
   "execution_count": 17,
   "metadata": {},
   "outputs": [
    {
     "data": {
      "text/plain": [
       "200.6653586429945"
      ]
     },
     "execution_count": 17,
     "metadata": {},
     "output_type": "execute_result"
    }
   ],
   "source": [
    "# error\n",
    "\n",
    "\n",
    "er_sc = mean_squared_error(y_test, y_preds)\n",
    "\n",
    "score_sc = ((y_test - y_preds)**2).sum()\n",
    "\n",
    "er_sc\n",
    "\n"
   ]
  },
  {
   "cell_type": "code",
   "execution_count": null,
   "metadata": {},
   "outputs": [],
   "source": []
  }
 ],
 "metadata": {
  "kernelspec": {
   "display_name": "Python 3",
   "language": "python",
   "name": "python3"
  },
  "language_info": {
   "codemirror_mode": {
    "name": "ipython",
    "version": 3
   },
   "file_extension": ".py",
   "mimetype": "text/x-python",
   "name": "python",
   "nbconvert_exporter": "python",
   "pygments_lexer": "ipython3",
   "version": "3.7.9"
  }
 },
 "nbformat": 4,
 "nbformat_minor": 4
}
