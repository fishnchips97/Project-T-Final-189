{
 "cells": [
  {
   "cell_type": "code",
   "execution_count": 18,
   "metadata": {},
   "outputs": [],
   "source": [
    "# data organization libraries\n",
    "import numpy as np\n",
    "import pandas as pd\n",
    "\n",
    "# data visualization libraries\n",
    "import plotly.express as px\n",
    "import matplotlib.pyplot as plt\n",
    "\n",
    "# modeling libraries\n",
    "import sklearn as sk\n"
   ]
  },
  {
   "cell_type": "code",
   "execution_count": 19,
   "metadata": {},
   "outputs": [
    {
     "data": {
      "text/html": [
       "<div>\n",
       "<style scoped>\n",
       "    .dataframe tbody tr th:only-of-type {\n",
       "        vertical-align: middle;\n",
       "    }\n",
       "\n",
       "    .dataframe tbody tr th {\n",
       "        vertical-align: top;\n",
       "    }\n",
       "\n",
       "    .dataframe thead th {\n",
       "        text-align: right;\n",
       "    }\n",
       "</style>\n",
       "<table border=\"1\" class=\"dataframe\">\n",
       "  <thead>\n",
       "    <tr style=\"text-align: right;\">\n",
       "      <th></th>\n",
       "      <th>X</th>\n",
       "      <th>Y</th>\n",
       "      <th>month</th>\n",
       "      <th>day</th>\n",
       "      <th>FFMC</th>\n",
       "      <th>DMC</th>\n",
       "      <th>DC</th>\n",
       "      <th>ISI</th>\n",
       "      <th>temp</th>\n",
       "      <th>RH</th>\n",
       "      <th>wind</th>\n",
       "      <th>rain</th>\n",
       "      <th>area</th>\n",
       "    </tr>\n",
       "  </thead>\n",
       "  <tbody>\n",
       "    <tr>\n",
       "      <th>0</th>\n",
       "      <td>7</td>\n",
       "      <td>5</td>\n",
       "      <td>3</td>\n",
       "      <td>5</td>\n",
       "      <td>86.2</td>\n",
       "      <td>26.2</td>\n",
       "      <td>94.3</td>\n",
       "      <td>5.1</td>\n",
       "      <td>8.2</td>\n",
       "      <td>51</td>\n",
       "      <td>6.7</td>\n",
       "      <td>0.0</td>\n",
       "      <td>0.0</td>\n",
       "    </tr>\n",
       "    <tr>\n",
       "      <th>1</th>\n",
       "      <td>7</td>\n",
       "      <td>4</td>\n",
       "      <td>10</td>\n",
       "      <td>2</td>\n",
       "      <td>90.6</td>\n",
       "      <td>35.4</td>\n",
       "      <td>669.1</td>\n",
       "      <td>6.7</td>\n",
       "      <td>18.0</td>\n",
       "      <td>33</td>\n",
       "      <td>0.9</td>\n",
       "      <td>0.0</td>\n",
       "      <td>0.0</td>\n",
       "    </tr>\n",
       "    <tr>\n",
       "      <th>2</th>\n",
       "      <td>7</td>\n",
       "      <td>4</td>\n",
       "      <td>10</td>\n",
       "      <td>6</td>\n",
       "      <td>90.6</td>\n",
       "      <td>43.7</td>\n",
       "      <td>686.9</td>\n",
       "      <td>6.7</td>\n",
       "      <td>14.6</td>\n",
       "      <td>33</td>\n",
       "      <td>1.3</td>\n",
       "      <td>0.0</td>\n",
       "      <td>0.0</td>\n",
       "    </tr>\n",
       "    <tr>\n",
       "      <th>3</th>\n",
       "      <td>8</td>\n",
       "      <td>6</td>\n",
       "      <td>3</td>\n",
       "      <td>5</td>\n",
       "      <td>91.7</td>\n",
       "      <td>33.3</td>\n",
       "      <td>77.5</td>\n",
       "      <td>9.0</td>\n",
       "      <td>8.3</td>\n",
       "      <td>97</td>\n",
       "      <td>4.0</td>\n",
       "      <td>0.2</td>\n",
       "      <td>0.0</td>\n",
       "    </tr>\n",
       "    <tr>\n",
       "      <th>4</th>\n",
       "      <td>8</td>\n",
       "      <td>6</td>\n",
       "      <td>3</td>\n",
       "      <td>0</td>\n",
       "      <td>89.3</td>\n",
       "      <td>51.3</td>\n",
       "      <td>102.2</td>\n",
       "      <td>9.6</td>\n",
       "      <td>11.4</td>\n",
       "      <td>99</td>\n",
       "      <td>1.8</td>\n",
       "      <td>0.0</td>\n",
       "      <td>0.0</td>\n",
       "    </tr>\n",
       "  </tbody>\n",
       "</table>\n",
       "</div>"
      ],
      "text/plain": [
       "   X  Y  month  day  FFMC   DMC     DC  ISI  temp  RH  wind  rain  area\n",
       "0  7  5      3    5  86.2  26.2   94.3  5.1   8.2  51   6.7   0.0   0.0\n",
       "1  7  4     10    2  90.6  35.4  669.1  6.7  18.0  33   0.9   0.0   0.0\n",
       "2  7  4     10    6  90.6  43.7  686.9  6.7  14.6  33   1.3   0.0   0.0\n",
       "3  8  6      3    5  91.7  33.3   77.5  9.0   8.3  97   4.0   0.2   0.0\n",
       "4  8  6      3    0  89.3  51.3  102.2  9.6  11.4  99   1.8   0.0   0.0"
      ]
     },
     "execution_count": 19,
     "metadata": {},
     "output_type": "execute_result"
    }
   ],
   "source": [
    "# get raw data\n",
    "\n",
    "fire_df = pd.read_csv('clean_fires.csv')\n",
    "\n",
    "fire_df.head()\n"
   ]
  },
  {
   "cell_type": "code",
   "execution_count": 20,
   "metadata": {},
   "outputs": [
    {
     "data": {
      "text/plain": [
       "512"
      ]
     },
     "execution_count": 20,
     "metadata": {},
     "output_type": "execute_result"
    }
   ],
   "source": [
    "len(fire_df)"
   ]
  },
  {
   "cell_type": "code",
   "execution_count": 21,
   "metadata": {},
   "outputs": [],
   "source": [
    "mons = fire_df['month'].value_counts()"
   ]
  },
  {
   "cell_type": "code",
   "execution_count": 22,
   "metadata": {},
   "outputs": [
    {
     "data": {
      "text/plain": [
       "8    184\n",
       "9    172\n",
       "3     54\n",
       "7     32\n",
       "2     20\n",
       "Name: month, dtype: int64"
      ]
     },
     "execution_count": 22,
     "metadata": {},
     "output_type": "execute_result"
    }
   ],
   "source": [
    "mons.head()\n",
    "\n"
   ]
  },
  {
   "cell_type": "code",
   "execution_count": 23,
   "metadata": {},
   "outputs": [
    {
     "data": {
      "text/html": [
       "<div>\n",
       "<style scoped>\n",
       "    .dataframe tbody tr th:only-of-type {\n",
       "        vertical-align: middle;\n",
       "    }\n",
       "\n",
       "    .dataframe tbody tr th {\n",
       "        vertical-align: top;\n",
       "    }\n",
       "\n",
       "    .dataframe thead th {\n",
       "        text-align: right;\n",
       "    }\n",
       "</style>\n",
       "<table border=\"1\" class=\"dataframe\">\n",
       "  <thead>\n",
       "    <tr style=\"text-align: right;\">\n",
       "      <th></th>\n",
       "      <th>X</th>\n",
       "      <th>Y</th>\n",
       "      <th>month</th>\n",
       "      <th>day</th>\n",
       "      <th>FFMC</th>\n",
       "      <th>DMC</th>\n",
       "      <th>DC</th>\n",
       "      <th>ISI</th>\n",
       "      <th>temp</th>\n",
       "      <th>RH</th>\n",
       "      <th>wind</th>\n",
       "      <th>rain</th>\n",
       "      <th>area</th>\n",
       "    </tr>\n",
       "  </thead>\n",
       "  <tbody>\n",
       "    <tr>\n",
       "      <th>5</th>\n",
       "      <td>8</td>\n",
       "      <td>6</td>\n",
       "      <td>8</td>\n",
       "      <td>0</td>\n",
       "      <td>92.3</td>\n",
       "      <td>85.3</td>\n",
       "      <td>488.0</td>\n",
       "      <td>14.7</td>\n",
       "      <td>22.2</td>\n",
       "      <td>29</td>\n",
       "      <td>5.4</td>\n",
       "      <td>0.0</td>\n",
       "      <td>0.0</td>\n",
       "    </tr>\n",
       "    <tr>\n",
       "      <th>6</th>\n",
       "      <td>8</td>\n",
       "      <td>6</td>\n",
       "      <td>8</td>\n",
       "      <td>1</td>\n",
       "      <td>92.3</td>\n",
       "      <td>88.9</td>\n",
       "      <td>495.6</td>\n",
       "      <td>8.5</td>\n",
       "      <td>24.1</td>\n",
       "      <td>27</td>\n",
       "      <td>3.1</td>\n",
       "      <td>0.0</td>\n",
       "      <td>0.0</td>\n",
       "    </tr>\n",
       "    <tr>\n",
       "      <th>7</th>\n",
       "      <td>8</td>\n",
       "      <td>6</td>\n",
       "      <td>8</td>\n",
       "      <td>1</td>\n",
       "      <td>91.5</td>\n",
       "      <td>145.4</td>\n",
       "      <td>608.2</td>\n",
       "      <td>10.7</td>\n",
       "      <td>8.0</td>\n",
       "      <td>86</td>\n",
       "      <td>2.2</td>\n",
       "      <td>0.0</td>\n",
       "      <td>0.0</td>\n",
       "    </tr>\n",
       "    <tr>\n",
       "      <th>12</th>\n",
       "      <td>6</td>\n",
       "      <td>5</td>\n",
       "      <td>8</td>\n",
       "      <td>5</td>\n",
       "      <td>63.5</td>\n",
       "      <td>70.8</td>\n",
       "      <td>665.3</td>\n",
       "      <td>0.8</td>\n",
       "      <td>17.0</td>\n",
       "      <td>72</td>\n",
       "      <td>6.7</td>\n",
       "      <td>0.0</td>\n",
       "      <td>0.0</td>\n",
       "    </tr>\n",
       "    <tr>\n",
       "      <th>23</th>\n",
       "      <td>7</td>\n",
       "      <td>4</td>\n",
       "      <td>8</td>\n",
       "      <td>6</td>\n",
       "      <td>90.2</td>\n",
       "      <td>110.9</td>\n",
       "      <td>537.4</td>\n",
       "      <td>6.2</td>\n",
       "      <td>19.5</td>\n",
       "      <td>43</td>\n",
       "      <td>5.8</td>\n",
       "      <td>0.0</td>\n",
       "      <td>0.0</td>\n",
       "    </tr>\n",
       "  </tbody>\n",
       "</table>\n",
       "</div>"
      ],
      "text/plain": [
       "    X  Y  month  day  FFMC    DMC     DC   ISI  temp  RH  wind  rain  area\n",
       "5   8  6      8    0  92.3   85.3  488.0  14.7  22.2  29   5.4   0.0   0.0\n",
       "6   8  6      8    1  92.3   88.9  495.6   8.5  24.1  27   3.1   0.0   0.0\n",
       "7   8  6      8    1  91.5  145.4  608.2  10.7   8.0  86   2.2   0.0   0.0\n",
       "12  6  5      8    5  63.5   70.8  665.3   0.8  17.0  72   6.7   0.0   0.0\n",
       "23  7  4      8    6  90.2  110.9  537.4   6.2  19.5  43   5.8   0.0   0.0"
      ]
     },
     "execution_count": 23,
     "metadata": {},
     "output_type": "execute_result"
    }
   ],
   "source": [
    "aug_fires = fire_df[fire_df['month'] == 8]\n",
    "\n",
    "aug_fires.head()"
   ]
  },
  {
   "cell_type": "code",
   "execution_count": 24,
   "metadata": {},
   "outputs": [
    {
     "data": {
      "text/plain": [
       "184"
      ]
     },
     "execution_count": 24,
     "metadata": {},
     "output_type": "execute_result"
    }
   ],
   "source": [
    "len(aug_fires)"
   ]
  },
  {
   "cell_type": "code",
   "execution_count": 25,
   "metadata": {},
   "outputs": [
    {
     "data": {
      "text/html": [
       "<div>\n",
       "<style scoped>\n",
       "    .dataframe tbody tr th:only-of-type {\n",
       "        vertical-align: middle;\n",
       "    }\n",
       "\n",
       "    .dataframe tbody tr th {\n",
       "        vertical-align: top;\n",
       "    }\n",
       "\n",
       "    .dataframe thead th {\n",
       "        text-align: right;\n",
       "    }\n",
       "</style>\n",
       "<table border=\"1\" class=\"dataframe\">\n",
       "  <thead>\n",
       "    <tr style=\"text-align: right;\">\n",
       "      <th></th>\n",
       "      <th>X</th>\n",
       "      <th>Y</th>\n",
       "      <th>month</th>\n",
       "      <th>day</th>\n",
       "      <th>FFMC</th>\n",
       "      <th>DMC</th>\n",
       "      <th>DC</th>\n",
       "      <th>ISI</th>\n",
       "      <th>temp</th>\n",
       "      <th>RH</th>\n",
       "      <th>wind</th>\n",
       "      <th>rain</th>\n",
       "      <th>area</th>\n",
       "    </tr>\n",
       "  </thead>\n",
       "  <tbody>\n",
       "    <tr>\n",
       "      <th>99</th>\n",
       "      <td>3</td>\n",
       "      <td>4</td>\n",
       "      <td>8</td>\n",
       "      <td>0</td>\n",
       "      <td>91.4</td>\n",
       "      <td>142.4</td>\n",
       "      <td>601.4</td>\n",
       "      <td>10.6</td>\n",
       "      <td>19.8</td>\n",
       "      <td>39</td>\n",
       "      <td>5.4</td>\n",
       "      <td>0.0</td>\n",
       "      <td>0.0</td>\n",
       "    </tr>\n",
       "    <tr>\n",
       "      <th>51</th>\n",
       "      <td>4</td>\n",
       "      <td>3</td>\n",
       "      <td>8</td>\n",
       "      <td>0</td>\n",
       "      <td>90.2</td>\n",
       "      <td>99.6</td>\n",
       "      <td>631.2</td>\n",
       "      <td>6.3</td>\n",
       "      <td>21.5</td>\n",
       "      <td>34</td>\n",
       "      <td>2.2</td>\n",
       "      <td>0.0</td>\n",
       "      <td>0.0</td>\n",
       "    </tr>\n",
       "    <tr>\n",
       "      <th>400</th>\n",
       "      <td>8</td>\n",
       "      <td>6</td>\n",
       "      <td>8</td>\n",
       "      <td>4</td>\n",
       "      <td>90.7</td>\n",
       "      <td>194.1</td>\n",
       "      <td>643.0</td>\n",
       "      <td>6.8</td>\n",
       "      <td>21.3</td>\n",
       "      <td>41</td>\n",
       "      <td>3.6</td>\n",
       "      <td>0.0</td>\n",
       "      <td>0.0</td>\n",
       "    </tr>\n",
       "    <tr>\n",
       "      <th>487</th>\n",
       "      <td>4</td>\n",
       "      <td>4</td>\n",
       "      <td>8</td>\n",
       "      <td>4</td>\n",
       "      <td>95.8</td>\n",
       "      <td>152.0</td>\n",
       "      <td>624.1</td>\n",
       "      <td>13.8</td>\n",
       "      <td>32.4</td>\n",
       "      <td>21</td>\n",
       "      <td>4.5</td>\n",
       "      <td>0.0</td>\n",
       "      <td>0.0</td>\n",
       "    </tr>\n",
       "    <tr>\n",
       "      <th>266</th>\n",
       "      <td>2</td>\n",
       "      <td>2</td>\n",
       "      <td>8</td>\n",
       "      <td>2</td>\n",
       "      <td>92.1</td>\n",
       "      <td>152.6</td>\n",
       "      <td>658.2</td>\n",
       "      <td>14.3</td>\n",
       "      <td>23.7</td>\n",
       "      <td>24</td>\n",
       "      <td>3.1</td>\n",
       "      <td>0.0</td>\n",
       "      <td>0.0</td>\n",
       "    </tr>\n",
       "  </tbody>\n",
       "</table>\n",
       "</div>"
      ],
      "text/plain": [
       "     X  Y  month  day  FFMC    DMC     DC   ISI  temp  RH  wind  rain  area\n",
       "99   3  4      8    0  91.4  142.4  601.4  10.6  19.8  39   5.4   0.0   0.0\n",
       "51   4  3      8    0  90.2   99.6  631.2   6.3  21.5  34   2.2   0.0   0.0\n",
       "400  8  6      8    4  90.7  194.1  643.0   6.8  21.3  41   3.6   0.0   0.0\n",
       "487  4  4      8    4  95.8  152.0  624.1  13.8  32.4  21   4.5   0.0   0.0\n",
       "266  2  2      8    2  92.1  152.6  658.2  14.3  23.7  24   3.1   0.0   0.0"
      ]
     },
     "execution_count": 25,
     "metadata": {},
     "output_type": "execute_result"
    }
   ],
   "source": [
    "samp = aug_fires.sample(n=60)\n",
    "\n",
    "samp.head()"
   ]
  },
  {
   "cell_type": "code",
   "execution_count": 26,
   "metadata": {},
   "outputs": [
    {
     "data": {
      "text/plain": [
       "60"
      ]
     },
     "execution_count": 26,
     "metadata": {},
     "output_type": "execute_result"
    }
   ],
   "source": [
    "len(samp)"
   ]
  },
  {
   "cell_type": "code",
   "execution_count": 27,
   "metadata": {},
   "outputs": [
    {
     "data": {
      "text/plain": [
       "array([[<AxesSubplot:title={'center':'X'}>,\n",
       "        <AxesSubplot:title={'center':'Y'}>,\n",
       "        <AxesSubplot:title={'center':'month'}>,\n",
       "        <AxesSubplot:title={'center':'day'}>],\n",
       "       [<AxesSubplot:title={'center':'FFMC'}>,\n",
       "        <AxesSubplot:title={'center':'DMC'}>,\n",
       "        <AxesSubplot:title={'center':'DC'}>,\n",
       "        <AxesSubplot:title={'center':'ISI'}>],\n",
       "       [<AxesSubplot:title={'center':'temp'}>,\n",
       "        <AxesSubplot:title={'center':'RH'}>,\n",
       "        <AxesSubplot:title={'center':'wind'}>,\n",
       "        <AxesSubplot:title={'center':'rain'}>],\n",
       "       [<AxesSubplot:title={'center':'area'}>, <AxesSubplot:>,\n",
       "        <AxesSubplot:>, <AxesSubplot:>]], dtype=object)"
      ]
     },
     "execution_count": 27,
     "metadata": {},
     "output_type": "execute_result"
    },
    {
     "data": {
      "image/png": "[encoded data removed]",
      "text/plain": [
       "<Figure size 1440x1080 with 16 Axes>"
      ]
     },
     "metadata": {
      "needs_background": "light"
     },
     "output_type": "display_data"
    }
   ],
   "source": [
    "aug_fires.hist(bins=15, figsize=(20,15))"
   ]
  },
  {
   "cell_type": "code",
   "execution_count": 28,
   "metadata": {},
   "outputs": [
    {
     "data": {
      "text/plain": [
       "array([[<AxesSubplot:title={'center':'X'}>,\n",
       "        <AxesSubplot:title={'center':'Y'}>,\n",
       "        <AxesSubplot:title={'center':'month'}>,\n",
       "        <AxesSubplot:title={'center':'day'}>],\n",
       "       [<AxesSubplot:title={'center':'FFMC'}>,\n",
       "        <AxesSubplot:title={'center':'DMC'}>,\n",
       "        <AxesSubplot:title={'center':'DC'}>,\n",
       "        <AxesSubplot:title={'center':'ISI'}>],\n",
       "       [<AxesSubplot:title={'center':'temp'}>,\n",
       "        <AxesSubplot:title={'center':'RH'}>,\n",
       "        <AxesSubplot:title={'center':'wind'}>,\n",
       "        <AxesSubplot:title={'center':'rain'}>],\n",
       "       [<AxesSubplot:title={'center':'area'}>, <AxesSubplot:>,\n",
       "        <AxesSubplot:>, <AxesSubplot:>]], dtype=object)"
      ]
     },
     "execution_count": 28,
     "metadata": {},
     "output_type": "execute_result"
    },
    {
     "data": {
      "image/png": "[encoded data removed]",
      "text/plain": [
       "<Figure size 1440x1080 with 16 Axes>"
      ]
     },
     "metadata": {
      "needs_background": "light"
     },
     "output_type": "display_data"
    }
   ],
   "source": [
    "samp.hist(bins=15, figsize=(20,15))"
   ]
  },
  {
   "cell_type": "code",
   "execution_count": 29,
   "metadata": {},
   "outputs": [],
   "source": [
    "mon_index =[8, 9, 3, 7, 2, 6, 10, 12, 4]\n",
    "\n",
    "sample_list = [61, 57, 18, 11, 7, 6, 5, 3, 3]"
   ]
  },
  {
   "cell_type": "code",
   "execution_count": 30,
   "metadata": {},
   "outputs": [],
   "source": [
    "def generate_month_sample(df, month, num_samples, rand_s):\n",
    "    \n",
    "    month_df = df[df['month'] == month]\n",
    "    \n",
    "    return month_df.sample(n=num_samples, random_state=rand_s)\n"
   ]
  },
  {
   "cell_type": "code",
   "execution_count": 31,
   "metadata": {},
   "outputs": [],
   "source": [
    "def generate_year_sample(df, num_sample_list, index_list, rs):\n",
    "    \n",
    "    final_df = pd.DataFrame()\n",
    "    \n",
    "    dex = range(len(index_list))\n",
    "    \n",
    "    \n",
    "    \n",
    "    for i in dex:\n",
    "        \n",
    "        if i == 0:\n",
    "            \n",
    "            final_df = generate_month_sample(df, index_list[i], num_sample_list[i], rs)\n",
    "        else:\n",
    "            \n",
    "            final_df = pd.concat([final_df, generate_month_sample(df, index_list[i], num_sample_list[i], rs)])\n",
    "    \n",
    "    return final_df\n",
    "        \n",
    "        "
   ]
  },
  {
   "cell_type": "code",
   "execution_count": 33,
   "metadata": {},
   "outputs": [
    {
     "data": {
      "text/html": [
       "<div>\n",
       "<style scoped>\n",
       "    .dataframe tbody tr th:only-of-type {\n",
       "        vertical-align: middle;\n",
       "    }\n",
       "\n",
       "    .dataframe tbody tr th {\n",
       "        vertical-align: top;\n",
       "    }\n",
       "\n",
       "    .dataframe thead th {\n",
       "        text-align: right;\n",
       "    }\n",
       "</style>\n",
       "<table border=\"1\" class=\"dataframe\">\n",
       "  <thead>\n",
       "    <tr style=\"text-align: right;\">\n",
       "      <th></th>\n",
       "      <th>X</th>\n",
       "      <th>Y</th>\n",
       "      <th>month</th>\n",
       "      <th>day</th>\n",
       "      <th>FFMC</th>\n",
       "      <th>DMC</th>\n",
       "      <th>DC</th>\n",
       "      <th>ISI</th>\n",
       "      <th>temp</th>\n",
       "      <th>RH</th>\n",
       "      <th>wind</th>\n",
       "      <th>rain</th>\n",
       "      <th>area</th>\n",
       "    </tr>\n",
       "  </thead>\n",
       "  <tbody>\n",
       "    <tr>\n",
       "      <th>65</th>\n",
       "      <td>2</td>\n",
       "      <td>2</td>\n",
       "      <td>8</td>\n",
       "      <td>4</td>\n",
       "      <td>91.7</td>\n",
       "      <td>114.3</td>\n",
       "      <td>661.3</td>\n",
       "      <td>6.3</td>\n",
       "      <td>18.6</td>\n",
       "      <td>44</td>\n",
       "      <td>4.5</td>\n",
       "      <td>0.0</td>\n",
       "      <td>0.00</td>\n",
       "    </tr>\n",
       "    <tr>\n",
       "      <th>454</th>\n",
       "      <td>1</td>\n",
       "      <td>4</td>\n",
       "      <td>8</td>\n",
       "      <td>3</td>\n",
       "      <td>91.7</td>\n",
       "      <td>191.4</td>\n",
       "      <td>635.9</td>\n",
       "      <td>7.8</td>\n",
       "      <td>19.9</td>\n",
       "      <td>50</td>\n",
       "      <td>4.0</td>\n",
       "      <td>0.0</td>\n",
       "      <td>82.75</td>\n",
       "    </tr>\n",
       "    <tr>\n",
       "      <th>268</th>\n",
       "      <td>4</td>\n",
       "      <td>4</td>\n",
       "      <td>8</td>\n",
       "      <td>2</td>\n",
       "      <td>92.1</td>\n",
       "      <td>152.6</td>\n",
       "      <td>658.2</td>\n",
       "      <td>14.3</td>\n",
       "      <td>19.1</td>\n",
       "      <td>53</td>\n",
       "      <td>2.7</td>\n",
       "      <td>0.0</td>\n",
       "      <td>4.40</td>\n",
       "    </tr>\n",
       "    <tr>\n",
       "      <th>486</th>\n",
       "      <td>4</td>\n",
       "      <td>4</td>\n",
       "      <td>8</td>\n",
       "      <td>3</td>\n",
       "      <td>95.1</td>\n",
       "      <td>141.3</td>\n",
       "      <td>605.8</td>\n",
       "      <td>17.7</td>\n",
       "      <td>28.7</td>\n",
       "      <td>33</td>\n",
       "      <td>4.0</td>\n",
       "      <td>0.0</td>\n",
       "      <td>0.00</td>\n",
       "    </tr>\n",
       "    <tr>\n",
       "      <th>160</th>\n",
       "      <td>6</td>\n",
       "      <td>4</td>\n",
       "      <td>8</td>\n",
       "      <td>4</td>\n",
       "      <td>95.2</td>\n",
       "      <td>131.7</td>\n",
       "      <td>578.8</td>\n",
       "      <td>10.4</td>\n",
       "      <td>20.3</td>\n",
       "      <td>41</td>\n",
       "      <td>4.0</td>\n",
       "      <td>0.0</td>\n",
       "      <td>1.90</td>\n",
       "    </tr>\n",
       "  </tbody>\n",
       "</table>\n",
       "</div>"
      ],
      "text/plain": [
       "     X  Y  month  day  FFMC    DMC     DC   ISI  temp  RH  wind  rain   area\n",
       "65   2  2      8    4  91.7  114.3  661.3   6.3  18.6  44   4.5   0.0   0.00\n",
       "454  1  4      8    3  91.7  191.4  635.9   7.8  19.9  50   4.0   0.0  82.75\n",
       "268  4  4      8    2  92.1  152.6  658.2  14.3  19.1  53   2.7   0.0   4.40\n",
       "486  4  4      8    3  95.1  141.3  605.8  17.7  28.7  33   4.0   0.0   0.00\n",
       "160  6  4      8    4  95.2  131.7  578.8  10.4  20.3  41   4.0   0.0   1.90"
      ]
     },
     "execution_count": 33,
     "metadata": {},
     "output_type": "execute_result"
    }
   ],
   "source": [
    "one_yr = generate_year_sample(fire_df, sample_list, mon_index, 1)\n",
    "\n",
    "one_yr.head()"
   ]
  },
  {
   "cell_type": "code",
   "execution_count": 34,
   "metadata": {},
   "outputs": [
    {
     "data": {
      "text/plain": [
       "171"
      ]
     },
     "execution_count": 34,
     "metadata": {},
     "output_type": "execute_result"
    }
   ],
   "source": [
    "len(one_yr)"
   ]
  },
  {
   "cell_type": "code",
   "execution_count": 35,
   "metadata": {},
   "outputs": [
    {
     "data": {
      "text/plain": [
       "array([[<AxesSubplot:title={'center':'X'}>,\n",
       "        <AxesSubplot:title={'center':'Y'}>,\n",
       "        <AxesSubplot:title={'center':'month'}>,\n",
       "        <AxesSubplot:title={'center':'day'}>],\n",
       "       [<AxesSubplot:title={'center':'FFMC'}>,\n",
       "        <AxesSubplot:title={'center':'DMC'}>,\n",
       "        <AxesSubplot:title={'center':'DC'}>,\n",
       "        <AxesSubplot:title={'center':'ISI'}>],\n",
       "       [<AxesSubplot:title={'center':'temp'}>,\n",
       "        <AxesSubplot:title={'center':'RH'}>,\n",
       "        <AxesSubplot:title={'center':'wind'}>,\n",
       "        <AxesSubplot:title={'center':'rain'}>],\n",
       "       [<AxesSubplot:title={'center':'area'}>, <AxesSubplot:>,\n",
       "        <AxesSubplot:>, <AxesSubplot:>]], dtype=object)"
      ]
     },
     "execution_count": 35,
     "metadata": {},
     "output_type": "execute_result"
    },
    {
     "data": {
      "image/png": "[encoded data removed]",
      "text/plain": [
       "<Figure size 1440x1080 with 16 Axes>"
      ]
     },
     "metadata": {
      "needs_background": "light"
     },
     "output_type": "display_data"
    }
   ],
   "source": [
    "one_yr.hist(bins=15, figsize=(20,15))"
   ]
  },
  {
   "cell_type": "code",
   "execution_count": 36,
   "metadata": {},
   "outputs": [
    {
     "data": {
      "text/plain": [
       "array([[<AxesSubplot:title={'center':'X'}>,\n",
       "        <AxesSubplot:title={'center':'Y'}>,\n",
       "        <AxesSubplot:title={'center':'month'}>,\n",
       "        <AxesSubplot:title={'center':'day'}>],\n",
       "       [<AxesSubplot:title={'center':'FFMC'}>,\n",
       "        <AxesSubplot:title={'center':'DMC'}>,\n",
       "        <AxesSubplot:title={'center':'DC'}>,\n",
       "        <AxesSubplot:title={'center':'ISI'}>],\n",
       "       [<AxesSubplot:title={'center':'temp'}>,\n",
       "        <AxesSubplot:title={'center':'RH'}>,\n",
       "        <AxesSubplot:title={'center':'wind'}>,\n",
       "        <AxesSubplot:title={'center':'rain'}>],\n",
       "       [<AxesSubplot:title={'center':'area'}>, <AxesSubplot:>,\n",
       "        <AxesSubplot:>, <AxesSubplot:>]], dtype=object)"
      ]
     },
     "execution_count": 36,
     "metadata": {},
     "output_type": "execute_result"
    },
    {
     "data": {
      "image/png": "[encoded data removed]",
      "text/plain": [
       "<Figure size 1440x1080 with 16 Axes>"
      ]
     },
     "metadata": {
      "needs_background": "light"
     },
     "output_type": "display_data"
    }
   ],
   "source": [
    "fire_df.hist(bins=15, figsize=(20,15))"
   ]
  },
  {
   "cell_type": "code",
   "execution_count": 37,
   "metadata": {},
   "outputs": [],
   "source": [
    "# now that we have our sampling function, lets start to create our final: train, validation, \n",
    "# and test sets. The data will be sampled in such a way that students models will be more\n",
    "# accurate on the validation sets, which will be samples of the final test set, if they select\n",
    "# the best features from the train set.\n"
   ]
  },
  {
   "cell_type": "code",
   "execution_count": 38,
   "metadata": {},
   "outputs": [],
   "source": [
    "# final data sets v1"
   ]
  },
  {
   "cell_type": "code",
   "execution_count": 39,
   "metadata": {},
   "outputs": [],
   "source": [
    "# gen train\n",
    "# description: fictional yearly data from 2000-2016\n",
    "# 1. 2720 rows (680 * 4)\n",
    "# 2. strait rand samp (prob)\n",
    "# 3. students will discover true model through EDA and validation\n",
    "# 4. Main Idea, if a student trains their model on data that is more similar to final test set\n",
    "# then they will have a higher accuracy on their kaggle submission, and use test/val/train to \n",
    "# earn their grade."
   ]
  },
  {
   "cell_type": "code",
   "execution_count": 40,
   "metadata": {},
   "outputs": [
    {
     "data": {
      "text/plain": [
       "{1: 10, 2: 10, 3: 10}"
      ]
     },
     "execution_count": 40,
     "metadata": {},
     "output_type": "execute_result"
    }
   ],
   "source": [
    "rand_states = dict.fromkeys([1, 2, 3], 10)\n",
    "\n",
    "rand_states"
   ]
  },
  {
   "cell_type": "code",
   "execution_count": 41,
   "metadata": {},
   "outputs": [
    {
     "data": {
      "text/plain": [
       "{1: 1,\n",
       " 2: 1,\n",
       " 3: 1,\n",
       " 4: 1,\n",
       " 5: 2,\n",
       " 6: 2,\n",
       " 7: 2,\n",
       " 8: 2,\n",
       " 9: 3,\n",
       " 10: 3,\n",
       " 11: 3,\n",
       " 12: 3,\n",
       " 13: 4,\n",
       " 14: 4,\n",
       " 15: 4,\n",
       " 16: 4}"
      ]
     },
     "execution_count": 41,
     "metadata": {},
     "output_type": "execute_result"
    }
   ],
   "source": [
    "myDict = {\n",
    "  **dict.fromkeys([1, 2, 3, 4], 1), \n",
    "  **dict.fromkeys([5, 6, 7, 8], 2),\n",
    "  **dict.fromkeys([9, 10, 11, 12], 3),\n",
    "  **dict.fromkeys([13, 14, 15, 16], 4),\n",
    "}\n",
    "\n",
    "myDict"
   ]
  },
  {
   "cell_type": "code",
   "execution_count": 42,
   "metadata": {},
   "outputs": [
    {
     "data": {
      "text/plain": [
       "3"
      ]
     },
     "execution_count": 42,
     "metadata": {},
     "output_type": "execute_result"
    }
   ],
   "source": [
    "myDict[9]"
   ]
  },
  {
   "cell_type": "code",
   "execution_count": 43,
   "metadata": {},
   "outputs": [],
   "source": [
    "#def add_yr_label(df, label)"
   ]
  },
  {
   "cell_type": "code",
   "execution_count": 44,
   "metadata": {},
   "outputs": [],
   "source": [
    "def gen_train_data(df, sam_nums, dex, rand_state):\n",
    "    \n",
    "    train = pd.DataFrame()\n",
    "    \n",
    "    yrs = 16\n",
    "    \n",
    "    while yrs > 0:\n",
    "        \n",
    "        state = rand_state[yrs]\n",
    "        \n",
    "        curr_yr = generate_year_sample(df, sam_nums, dex, state)\n",
    "        \n",
    "        train = pd.concat([train, curr_yr])\n",
    "        \n",
    "        yrs-=1\n",
    "    \n",
    "    return train\n",
    "    \n",
    "    \n",
    "    "
   ]
  },
  {
   "cell_type": "code",
   "execution_count": 45,
   "metadata": {},
   "outputs": [
    {
     "data": {
      "text/html": [
       "<div>\n",
       "<style scoped>\n",
       "    .dataframe tbody tr th:only-of-type {\n",
       "        vertical-align: middle;\n",
       "    }\n",
       "\n",
       "    .dataframe tbody tr th {\n",
       "        vertical-align: top;\n",
       "    }\n",
       "\n",
       "    .dataframe thead th {\n",
       "        text-align: right;\n",
       "    }\n",
       "</style>\n",
       "<table border=\"1\" class=\"dataframe\">\n",
       "  <thead>\n",
       "    <tr style=\"text-align: right;\">\n",
       "      <th></th>\n",
       "      <th>X</th>\n",
       "      <th>Y</th>\n",
       "      <th>month</th>\n",
       "      <th>day</th>\n",
       "      <th>FFMC</th>\n",
       "      <th>DMC</th>\n",
       "      <th>DC</th>\n",
       "      <th>ISI</th>\n",
       "      <th>temp</th>\n",
       "      <th>RH</th>\n",
       "      <th>wind</th>\n",
       "      <th>rain</th>\n",
       "      <th>area</th>\n",
       "    </tr>\n",
       "  </thead>\n",
       "  <tbody>\n",
       "    <tr>\n",
       "      <th>504</th>\n",
       "      <td>1</td>\n",
       "      <td>2</td>\n",
       "      <td>8</td>\n",
       "      <td>5</td>\n",
       "      <td>91.0</td>\n",
       "      <td>166.9</td>\n",
       "      <td>752.6</td>\n",
       "      <td>7.1</td>\n",
       "      <td>25.9</td>\n",
       "      <td>41</td>\n",
       "      <td>3.6</td>\n",
       "      <td>0.0</td>\n",
       "      <td>0.00</td>\n",
       "    </tr>\n",
       "    <tr>\n",
       "      <th>483</th>\n",
       "      <td>5</td>\n",
       "      <td>4</td>\n",
       "      <td>8</td>\n",
       "      <td>2</td>\n",
       "      <td>95.1</td>\n",
       "      <td>141.3</td>\n",
       "      <td>605.8</td>\n",
       "      <td>17.7</td>\n",
       "      <td>26.4</td>\n",
       "      <td>34</td>\n",
       "      <td>3.6</td>\n",
       "      <td>0.0</td>\n",
       "      <td>16.40</td>\n",
       "    </tr>\n",
       "    <tr>\n",
       "      <th>165</th>\n",
       "      <td>6</td>\n",
       "      <td>5</td>\n",
       "      <td>8</td>\n",
       "      <td>3</td>\n",
       "      <td>92.1</td>\n",
       "      <td>111.2</td>\n",
       "      <td>654.1</td>\n",
       "      <td>9.6</td>\n",
       "      <td>16.6</td>\n",
       "      <td>47</td>\n",
       "      <td>0.9</td>\n",
       "      <td>0.0</td>\n",
       "      <td>2.29</td>\n",
       "    </tr>\n",
       "    <tr>\n",
       "      <th>253</th>\n",
       "      <td>6</td>\n",
       "      <td>3</td>\n",
       "      <td>8</td>\n",
       "      <td>4</td>\n",
       "      <td>91.6</td>\n",
       "      <td>138.1</td>\n",
       "      <td>621.7</td>\n",
       "      <td>6.3</td>\n",
       "      <td>18.9</td>\n",
       "      <td>41</td>\n",
       "      <td>3.1</td>\n",
       "      <td>0.0</td>\n",
       "      <td>10.34</td>\n",
       "    </tr>\n",
       "    <tr>\n",
       "      <th>106</th>\n",
       "      <td>4</td>\n",
       "      <td>5</td>\n",
       "      <td>8</td>\n",
       "      <td>0</td>\n",
       "      <td>90.2</td>\n",
       "      <td>99.6</td>\n",
       "      <td>631.2</td>\n",
       "      <td>6.3</td>\n",
       "      <td>21.4</td>\n",
       "      <td>33</td>\n",
       "      <td>3.1</td>\n",
       "      <td>0.0</td>\n",
       "      <td>0.00</td>\n",
       "    </tr>\n",
       "  </tbody>\n",
       "</table>\n",
       "</div>"
      ],
      "text/plain": [
       "     X  Y  month  day  FFMC    DMC     DC   ISI  temp  RH  wind  rain   area\n",
       "504  1  2      8    5  91.0  166.9  752.6   7.1  25.9  41   3.6   0.0   0.00\n",
       "483  5  4      8    2  95.1  141.3  605.8  17.7  26.4  34   3.6   0.0  16.40\n",
       "165  6  5      8    3  92.1  111.2  654.1   9.6  16.6  47   0.9   0.0   2.29\n",
       "253  6  3      8    4  91.6  138.1  621.7   6.3  18.9  41   3.1   0.0  10.34\n",
       "106  4  5      8    0  90.2   99.6  631.2   6.3  21.4  33   3.1   0.0   0.00"
      ]
     },
     "execution_count": 45,
     "metadata": {},
     "output_type": "execute_result"
    }
   ],
   "source": [
    "train_df = gen_train_data(fire_df, sample_list, mon_index, myDict)\n",
    "\n",
    "train_df.head()"
   ]
  },
  {
   "cell_type": "code",
   "execution_count": 46,
   "metadata": {},
   "outputs": [
    {
     "data": {
      "text/plain": [
       "2736"
      ]
     },
     "execution_count": 46,
     "metadata": {},
     "output_type": "execute_result"
    }
   ],
   "source": [
    "len(train_df)"
   ]
  },
  {
   "cell_type": "code",
   "execution_count": 47,
   "metadata": {},
   "outputs": [
    {
     "data": {
      "text/plain": [
       "array([[<AxesSubplot:title={'center':'X'}>,\n",
       "        <AxesSubplot:title={'center':'Y'}>,\n",
       "        <AxesSubplot:title={'center':'month'}>,\n",
       "        <AxesSubplot:title={'center':'day'}>],\n",
       "       [<AxesSubplot:title={'center':'FFMC'}>,\n",
       "        <AxesSubplot:title={'center':'DMC'}>,\n",
       "        <AxesSubplot:title={'center':'DC'}>,\n",
       "        <AxesSubplot:title={'center':'ISI'}>],\n",
       "       [<AxesSubplot:title={'center':'temp'}>,\n",
       "        <AxesSubplot:title={'center':'RH'}>,\n",
       "        <AxesSubplot:title={'center':'wind'}>,\n",
       "        <AxesSubplot:title={'center':'rain'}>],\n",
       "       [<AxesSubplot:title={'center':'area'}>, <AxesSubplot:>,\n",
       "        <AxesSubplot:>, <AxesSubplot:>]], dtype=object)"
      ]
     },
     "execution_count": 47,
     "metadata": {},
     "output_type": "execute_result"
    },
    {
     "data": {
      "image/png": "[encoded data removed]",
      "text/plain": [
       "<Figure size 1440x1080 with 16 Axes>"
      ]
     },
     "metadata": {
      "needs_background": "light"
     },
     "output_type": "display_data"
    }
   ],
   "source": [
    "train_df.hist(bins=30, figsize=(20,15))"
   ]
  },
  {
   "cell_type": "code",
   "execution_count": 48,
   "metadata": {},
   "outputs": [
    {
     "data": {
      "text/html": [
       "<div>\n",
       "<style scoped>\n",
       "    .dataframe tbody tr th:only-of-type {\n",
       "        vertical-align: middle;\n",
       "    }\n",
       "\n",
       "    .dataframe tbody tr th {\n",
       "        vertical-align: top;\n",
       "    }\n",
       "\n",
       "    .dataframe thead th {\n",
       "        text-align: right;\n",
       "    }\n",
       "</style>\n",
       "<table border=\"1\" class=\"dataframe\">\n",
       "  <thead>\n",
       "    <tr style=\"text-align: right;\">\n",
       "      <th></th>\n",
       "      <th>X</th>\n",
       "      <th>Y</th>\n",
       "      <th>month</th>\n",
       "      <th>day</th>\n",
       "      <th>FFMC</th>\n",
       "      <th>DMC</th>\n",
       "      <th>DC</th>\n",
       "      <th>ISI</th>\n",
       "      <th>temp</th>\n",
       "      <th>RH</th>\n",
       "      <th>wind</th>\n",
       "      <th>rain</th>\n",
       "      <th>area</th>\n",
       "    </tr>\n",
       "  </thead>\n",
       "  <tbody>\n",
       "    <tr>\n",
       "      <th>count</th>\n",
       "      <td>2736.000000</td>\n",
       "      <td>2736.000000</td>\n",
       "      <td>2736.000000</td>\n",
       "      <td>2736.000000</td>\n",
       "      <td>2736.000000</td>\n",
       "      <td>2736.000000</td>\n",
       "      <td>2736.000000</td>\n",
       "      <td>2736.000000</td>\n",
       "      <td>2736.000000</td>\n",
       "      <td>2736.000000</td>\n",
       "      <td>2736.000000</td>\n",
       "      <td>2736.000000</td>\n",
       "      <td>2736.000000</td>\n",
       "    </tr>\n",
       "    <tr>\n",
       "      <th>mean</th>\n",
       "      <td>4.725146</td>\n",
       "      <td>4.317251</td>\n",
       "      <td>7.485380</td>\n",
       "      <td>2.951754</td>\n",
       "      <td>90.844737</td>\n",
       "      <td>109.474708</td>\n",
       "      <td>547.626901</td>\n",
       "      <td>8.989912</td>\n",
       "      <td>19.050292</td>\n",
       "      <td>43.934211</td>\n",
       "      <td>4.018860</td>\n",
       "      <td>0.037719</td>\n",
       "      <td>14.842632</td>\n",
       "    </tr>\n",
       "    <tr>\n",
       "      <th>std</th>\n",
       "      <td>2.313090</td>\n",
       "      <td>1.277656</td>\n",
       "      <td>2.249145</td>\n",
       "      <td>2.131820</td>\n",
       "      <td>4.307169</td>\n",
       "      <td>61.287021</td>\n",
       "      <td>246.565782</td>\n",
       "      <td>4.742705</td>\n",
       "      <td>5.694767</td>\n",
       "      <td>15.644872</td>\n",
       "      <td>1.773511</td>\n",
       "      <td>0.434065</td>\n",
       "      <td>77.433124</td>\n",
       "    </tr>\n",
       "    <tr>\n",
       "      <th>min</th>\n",
       "      <td>1.000000</td>\n",
       "      <td>2.000000</td>\n",
       "      <td>2.000000</td>\n",
       "      <td>0.000000</td>\n",
       "      <td>53.400000</td>\n",
       "      <td>2.400000</td>\n",
       "      <td>7.900000</td>\n",
       "      <td>0.400000</td>\n",
       "      <td>2.200000</td>\n",
       "      <td>15.000000</td>\n",
       "      <td>0.900000</td>\n",
       "      <td>0.000000</td>\n",
       "      <td>0.000000</td>\n",
       "    </tr>\n",
       "    <tr>\n",
       "      <th>25%</th>\n",
       "      <td>3.000000</td>\n",
       "      <td>4.000000</td>\n",
       "      <td>7.000000</td>\n",
       "      <td>1.000000</td>\n",
       "      <td>90.200000</td>\n",
       "      <td>73.350000</td>\n",
       "      <td>442.100000</td>\n",
       "      <td>6.400000</td>\n",
       "      <td>15.600000</td>\n",
       "      <td>33.000000</td>\n",
       "      <td>2.700000</td>\n",
       "      <td>0.000000</td>\n",
       "      <td>0.000000</td>\n",
       "    </tr>\n",
       "    <tr>\n",
       "      <th>50%</th>\n",
       "      <td>4.000000</td>\n",
       "      <td>4.000000</td>\n",
       "      <td>8.000000</td>\n",
       "      <td>3.000000</td>\n",
       "      <td>91.700000</td>\n",
       "      <td>108.000000</td>\n",
       "      <td>661.300000</td>\n",
       "      <td>8.400000</td>\n",
       "      <td>19.400000</td>\n",
       "      <td>42.000000</td>\n",
       "      <td>4.000000</td>\n",
       "      <td>0.000000</td>\n",
       "      <td>0.645000</td>\n",
       "    </tr>\n",
       "    <tr>\n",
       "      <th>75%</th>\n",
       "      <td>6.000000</td>\n",
       "      <td>5.000000</td>\n",
       "      <td>9.000000</td>\n",
       "      <td>5.000000</td>\n",
       "      <td>92.900000</td>\n",
       "      <td>141.300000</td>\n",
       "      <td>713.225000</td>\n",
       "      <td>10.450000</td>\n",
       "      <td>22.900000</td>\n",
       "      <td>53.000000</td>\n",
       "      <td>4.900000</td>\n",
       "      <td>0.000000</td>\n",
       "      <td>6.380000</td>\n",
       "    </tr>\n",
       "    <tr>\n",
       "      <th>max</th>\n",
       "      <td>9.000000</td>\n",
       "      <td>9.000000</td>\n",
       "      <td>12.000000</td>\n",
       "      <td>6.000000</td>\n",
       "      <td>96.200000</td>\n",
       "      <td>291.300000</td>\n",
       "      <td>860.600000</td>\n",
       "      <td>56.100000</td>\n",
       "      <td>33.100000</td>\n",
       "      <td>99.000000</td>\n",
       "      <td>9.400000</td>\n",
       "      <td>6.400000</td>\n",
       "      <td>1090.840000</td>\n",
       "    </tr>\n",
       "  </tbody>\n",
       "</table>\n",
       "</div>"
      ],
      "text/plain": [
       "                 X            Y        month          day         FFMC  \\\n",
       "count  2736.000000  2736.000000  2736.000000  2736.000000  2736.000000   \n",
       "mean      4.725146     4.317251     7.485380     2.951754    90.844737   \n",
       "std       2.313090     1.277656     2.249145     2.131820     4.307169   \n",
       "min       1.000000     2.000000     2.000000     0.000000    53.400000   \n",
       "25%       3.000000     4.000000     7.000000     1.000000    90.200000   \n",
       "50%       4.000000     4.000000     8.000000     3.000000    91.700000   \n",
       "75%       6.000000     5.000000     9.000000     5.000000    92.900000   \n",
       "max       9.000000     9.000000    12.000000     6.000000    96.200000   \n",
       "\n",
       "               DMC           DC          ISI         temp           RH  \\\n",
       "count  2736.000000  2736.000000  2736.000000  2736.000000  2736.000000   \n",
       "mean    109.474708   547.626901     8.989912    19.050292    43.934211   \n",
       "std      61.287021   246.565782     4.742705     5.694767    15.644872   \n",
       "min       2.400000     7.900000     0.400000     2.200000    15.000000   \n",
       "25%      73.350000   442.100000     6.400000    15.600000    33.000000   \n",
       "50%     108.000000   661.300000     8.400000    19.400000    42.000000   \n",
       "75%     141.300000   713.225000    10.450000    22.900000    53.000000   \n",
       "max     291.300000   860.600000    56.100000    33.100000    99.000000   \n",
       "\n",
       "              wind         rain         area  \n",
       "count  2736.000000  2736.000000  2736.000000  \n",
       "mean      4.018860     0.037719    14.842632  \n",
       "std       1.773511     0.434065    77.433124  \n",
       "min       0.900000     0.000000     0.000000  \n",
       "25%       2.700000     0.000000     0.000000  \n",
       "50%       4.000000     0.000000     0.645000  \n",
       "75%       4.900000     0.000000     6.380000  \n",
       "max       9.400000     6.400000  1090.840000  "
      ]
     },
     "execution_count": 48,
     "metadata": {},
     "output_type": "execute_result"
    }
   ],
   "source": [
    "# lets conduct some EDA on train_df\n",
    "\n",
    "train_df.describe()\n"
   ]
  },
  {
   "cell_type": "code",
   "execution_count": 49,
   "metadata": {},
   "outputs": [
    {
     "data": {
      "text/plain": [
       "(array([2284.,  152.,  100.,   36.,   32.,   12.,   12.,   16.,    8.,\n",
       "          20.,    0.,    0.,    0.,    0.,    8.,    0.,   12.,   12.,\n",
       "          12.,    4.,    0.,    0.,    0.,    0.,    0.,    4.,    0.,\n",
       "           0.,    0.,    0.,    0.,    0.,    0.,    0.,    0.,    0.,\n",
       "           0.,    0.,    0.,    0.,    0.,    0.,    0.,    0.,    0.,\n",
       "           0.,    0.,    0.,    0.,    0.,    0.,    0.,    0.,    0.,\n",
       "           0.,    0.,    0.,    0.,    0.,    0.,    0.,    0.,    0.,\n",
       "           0.,    0.,    0.,    0.,    0.,    0.,    0.,    0.,    0.,\n",
       "           0.,    0.,    0.,    0.,    0.,    0.,    0.,    0.,    0.,\n",
       "           0.,    0.,    0.,    0.,    0.,    0.,    0.,    0.,    0.,\n",
       "           0.,    0.,    0.,    0.,    0.,    0.,    0.,    0.,    0.,\n",
       "          12.]),\n",
       " array([   0.    ,   10.9084,   21.8168,   32.7252,   43.6336,   54.542 ,\n",
       "          65.4504,   76.3588,   87.2672,   98.1756,  109.084 ,  119.9924,\n",
       "         130.9008,  141.8092,  152.7176,  163.626 ,  174.5344,  185.4428,\n",
       "         196.3512,  207.2596,  218.168 ,  229.0764,  239.9848,  250.8932,\n",
       "         261.8016,  272.71  ,  283.6184,  294.5268,  305.4352,  316.3436,\n",
       "         327.252 ,  338.1604,  349.0688,  359.9772,  370.8856,  381.794 ,\n",
       "         392.7024,  403.6108,  414.5192,  425.4276,  436.336 ,  447.2444,\n",
       "         458.1528,  469.0612,  479.9696,  490.878 ,  501.7864,  512.6948,\n",
       "         523.6032,  534.5116,  545.42  ,  556.3284,  567.2368,  578.1452,\n",
       "         589.0536,  599.962 ,  610.8704,  621.7788,  632.6872,  643.5956,\n",
       "         654.504 ,  665.4124,  676.3208,  687.2292,  698.1376,  709.046 ,\n",
       "         719.9544,  730.8628,  741.7712,  752.6796,  763.588 ,  774.4964,\n",
       "         785.4048,  796.3132,  807.2216,  818.13  ,  829.0384,  839.9468,\n",
       "         850.8552,  861.7636,  872.672 ,  883.5804,  894.4888,  905.3972,\n",
       "         916.3056,  927.214 ,  938.1224,  949.0308,  959.9392,  970.8476,\n",
       "         981.756 ,  992.6644, 1003.5728, 1014.4812, 1025.3896, 1036.298 ,\n",
       "        1047.2064, 1058.1148, 1069.0232, 1079.9316, 1090.84  ]),\n",
       " <BarContainer object of 100 artists>)"
      ]
     },
     "execution_count": 49,
     "metadata": {},
     "output_type": "execute_result"
    },
    {
     "data": {
      "image/png": "[encoded data removed]",
      "text/plain": [
       "<Figure size 432x288 with 1 Axes>"
      ]
     },
     "metadata": {
      "needs_background": "light"
     },
     "output_type": "display_data"
    }
   ],
   "source": [
    "plt.hist(train_df['area'], ec= 'w', bins=100, color='red')"
   ]
  },
  {
   "cell_type": "code",
   "execution_count": 51,
   "metadata": {},
   "outputs": [
    {
     "data": {
      "text/plain": [
       "0-5       1984\n",
       "10-50      340\n",
       "5-10       272\n",
       ">100        84\n",
       "50-100      56\n",
       "Name: area_cat, dtype: int64"
      ]
     },
     "execution_count": 51,
     "metadata": {},
     "output_type": "execute_result"
    }
   ],
   "source": [
    "# group burnt area\n",
    "train_df['area_cat'] = pd.cut(train_df['area'], bins=[0,5, 10, 50, 100, 1100], include_lowest=True, \n",
    "                                 labels=['0-5', '5-10', '10-50', '50-100', '>100'])\n",
    "train_df['area_cat'].value_counts()"
   ]
  },
  {
   "cell_type": "code",
   "execution_count": 52,
   "metadata": {},
   "outputs": [
    {
     "data": {
      "text/plain": [
       "0-5       1984\n",
       "10-50      340\n",
       "5-10       272\n",
       "50-100      56\n",
       ">100         0\n",
       "Name: area_cat, dtype: int64"
      ]
     },
     "execution_count": 52,
     "metadata": {},
     "output_type": "execute_result"
    }
   ],
   "source": [
    "# remove outliers, i.e. any area greater than 100\n",
    "\n",
    "train_df.drop(train_df[train_df['area'] > 100].index, axis=0,inplace=True)\n",
    "\n",
    "train_df['area_cat'].value_counts()"
   ]
  },
  {
   "cell_type": "code",
   "execution_count": 53,
   "metadata": {},
   "outputs": [
    {
     "data": {
      "text/plain": [
       "(array([  4.,   0.,   0.,  36.,  24.,  28.,   0.,   8.,   4.,  32.,  16.,\n",
       "          0.,  16.,  36.,  72.,  48.,  60.,  16.,  72.,  64.,  44., 140.,\n",
       "        104.,  92., 112., 136.,  60., 144., 112., 164., 132., 100.,  60.,\n",
       "        108., 116.,  80.,  56.,  36.,  56.,  72.,  32.,  44.,  20.,  24.,\n",
       "          8.,  16.,  16.,   0.,  20.,  12.]),\n",
       " array([ 2.2  ,  2.818,  3.436,  4.054,  4.672,  5.29 ,  5.908,  6.526,\n",
       "         7.144,  7.762,  8.38 ,  8.998,  9.616, 10.234, 10.852, 11.47 ,\n",
       "        12.088, 12.706, 13.324, 13.942, 14.56 , 15.178, 15.796, 16.414,\n",
       "        17.032, 17.65 , 18.268, 18.886, 19.504, 20.122, 20.74 , 21.358,\n",
       "        21.976, 22.594, 23.212, 23.83 , 24.448, 25.066, 25.684, 26.302,\n",
       "        26.92 , 27.538, 28.156, 28.774, 29.392, 30.01 , 30.628, 31.246,\n",
       "        31.864, 32.482, 33.1  ]),\n",
       " <BarContainer object of 50 artists>)"
      ]
     },
     "execution_count": 53,
     "metadata": {},
     "output_type": "execute_result"
    },
    {
     "data": {
      "image/png": "[encoded data removed]",
      "text/plain": [
       "<Figure size 432x288 with 1 Axes>"
      ]
     },
     "metadata": {
      "needs_background": "light"
     },
     "output_type": "display_data"
    }
   ],
   "source": [
    "# lets check out temp\n",
    "\n",
    "plt.hist(train_df['temp'], ec='w', bins=50, color='blue')"
   ]
  },
  {
   "cell_type": "code",
   "execution_count": 54,
   "metadata": {},
   "outputs": [
    {
     "data": {
      "text/plain": [
       "15-20    884\n",
       "20-25    840\n",
       "0-15     572\n",
       ">25      356\n",
       "Name: temp_bins, dtype: int64"
      ]
     },
     "execution_count": 54,
     "metadata": {},
     "output_type": "execute_result"
    }
   ],
   "source": [
    "# group by temp\n",
    "train_df['temp_bins'] = pd.cut(train_df['temp'], bins=[0, 15, 20, 25, 40], include_lowest=True, \n",
    "                                 labels=['0-15', '15-20', '20-25', '>25'])\n",
    "\n",
    "train_df['temp_bins'].value_counts()\n",
    "\n"
   ]
  },
  {
   "cell_type": "markdown",
   "metadata": {},
   "source": [
    "# Validation Flow\n",
    "\n",
    "![](cross_val.png)"
   ]
  },
  {
   "cell_type": "markdown",
   "metadata": {},
   "source": [
    "Diagram taken from [sklearns model selection and evaluation](https://scikit-learn.org/stable/modules/cross_validation.html) documentation"
   ]
  },
  {
   "cell_type": "code",
   "execution_count": 55,
   "metadata": {},
   "outputs": [
    {
     "data": {
      "text/html": [
       "<div>\n",
       "<style scoped>\n",
       "    .dataframe tbody tr th:only-of-type {\n",
       "        vertical-align: middle;\n",
       "    }\n",
       "\n",
       "    .dataframe tbody tr th {\n",
       "        vertical-align: top;\n",
       "    }\n",
       "\n",
       "    .dataframe thead th {\n",
       "        text-align: right;\n",
       "    }\n",
       "</style>\n",
       "<table border=\"1\" class=\"dataframe\">\n",
       "  <thead>\n",
       "    <tr style=\"text-align: right;\">\n",
       "      <th></th>\n",
       "      <th>X</th>\n",
       "      <th>Y</th>\n",
       "      <th>month</th>\n",
       "      <th>day</th>\n",
       "      <th>FFMC</th>\n",
       "      <th>DMC</th>\n",
       "      <th>DC</th>\n",
       "      <th>ISI</th>\n",
       "      <th>temp</th>\n",
       "      <th>RH</th>\n",
       "      <th>wind</th>\n",
       "      <th>rain</th>\n",
       "      <th>area</th>\n",
       "      <th>area_cat</th>\n",
       "      <th>temp_bins</th>\n",
       "    </tr>\n",
       "  </thead>\n",
       "  <tbody>\n",
       "    <tr>\n",
       "      <th>504</th>\n",
       "      <td>1</td>\n",
       "      <td>2</td>\n",
       "      <td>8</td>\n",
       "      <td>5</td>\n",
       "      <td>91.0</td>\n",
       "      <td>166.9</td>\n",
       "      <td>752.6</td>\n",
       "      <td>7.1</td>\n",
       "      <td>25.9</td>\n",
       "      <td>41</td>\n",
       "      <td>3.6</td>\n",
       "      <td>0.0</td>\n",
       "      <td>0.00</td>\n",
       "      <td>0-5</td>\n",
       "      <td>&gt;25</td>\n",
       "    </tr>\n",
       "    <tr>\n",
       "      <th>483</th>\n",
       "      <td>5</td>\n",
       "      <td>4</td>\n",
       "      <td>8</td>\n",
       "      <td>2</td>\n",
       "      <td>95.1</td>\n",
       "      <td>141.3</td>\n",
       "      <td>605.8</td>\n",
       "      <td>17.7</td>\n",
       "      <td>26.4</td>\n",
       "      <td>34</td>\n",
       "      <td>3.6</td>\n",
       "      <td>0.0</td>\n",
       "      <td>16.40</td>\n",
       "      <td>10-50</td>\n",
       "      <td>&gt;25</td>\n",
       "    </tr>\n",
       "    <tr>\n",
       "      <th>165</th>\n",
       "      <td>6</td>\n",
       "      <td>5</td>\n",
       "      <td>8</td>\n",
       "      <td>3</td>\n",
       "      <td>92.1</td>\n",
       "      <td>111.2</td>\n",
       "      <td>654.1</td>\n",
       "      <td>9.6</td>\n",
       "      <td>16.6</td>\n",
       "      <td>47</td>\n",
       "      <td>0.9</td>\n",
       "      <td>0.0</td>\n",
       "      <td>2.29</td>\n",
       "      <td>0-5</td>\n",
       "      <td>15-20</td>\n",
       "    </tr>\n",
       "    <tr>\n",
       "      <th>253</th>\n",
       "      <td>6</td>\n",
       "      <td>3</td>\n",
       "      <td>8</td>\n",
       "      <td>4</td>\n",
       "      <td>91.6</td>\n",
       "      <td>138.1</td>\n",
       "      <td>621.7</td>\n",
       "      <td>6.3</td>\n",
       "      <td>18.9</td>\n",
       "      <td>41</td>\n",
       "      <td>3.1</td>\n",
       "      <td>0.0</td>\n",
       "      <td>10.34</td>\n",
       "      <td>10-50</td>\n",
       "      <td>15-20</td>\n",
       "    </tr>\n",
       "    <tr>\n",
       "      <th>106</th>\n",
       "      <td>4</td>\n",
       "      <td>5</td>\n",
       "      <td>8</td>\n",
       "      <td>0</td>\n",
       "      <td>90.2</td>\n",
       "      <td>99.6</td>\n",
       "      <td>631.2</td>\n",
       "      <td>6.3</td>\n",
       "      <td>21.4</td>\n",
       "      <td>33</td>\n",
       "      <td>3.1</td>\n",
       "      <td>0.0</td>\n",
       "      <td>0.00</td>\n",
       "      <td>0-5</td>\n",
       "      <td>20-25</td>\n",
       "    </tr>\n",
       "  </tbody>\n",
       "</table>\n",
       "</div>"
      ],
      "text/plain": [
       "     X  Y  month  day  FFMC    DMC     DC   ISI  temp  RH  wind  rain   area  \\\n",
       "504  1  2      8    5  91.0  166.9  752.6   7.1  25.9  41   3.6   0.0   0.00   \n",
       "483  5  4      8    2  95.1  141.3  605.8  17.7  26.4  34   3.6   0.0  16.40   \n",
       "165  6  5      8    3  92.1  111.2  654.1   9.6  16.6  47   0.9   0.0   2.29   \n",
       "253  6  3      8    4  91.6  138.1  621.7   6.3  18.9  41   3.1   0.0  10.34   \n",
       "106  4  5      8    0  90.2   99.6  631.2   6.3  21.4  33   3.1   0.0   0.00   \n",
       "\n",
       "    area_cat temp_bins  \n",
       "504      0-5       >25  \n",
       "483    10-50       >25  \n",
       "165      0-5     15-20  \n",
       "253    10-50     15-20  \n",
       "106      0-5     20-25  "
      ]
     },
     "execution_count": 55,
     "metadata": {},
     "output_type": "execute_result"
    }
   ],
   "source": [
    "train_df.head()"
   ]
  },
  {
   "cell_type": "code",
   "execution_count": 56,
   "metadata": {},
   "outputs": [],
   "source": [
    "# export train data to model notebook\n",
    "\n",
    "train_df.to_csv('raw_df.csv', index=False)"
   ]
  },
  {
   "cell_type": "code",
   "execution_count": null,
   "metadata": {},
   "outputs": [],
   "source": [
    "# lets do a simple test train split using sklearn\n",
    "from sklearn.model_selection import train_test_split"
   ]
  },
  {
   "cell_type": "code",
   "execution_count": null,
   "metadata": {},
   "outputs": [],
   "source": [
    "# gen train v2\n",
    "# changes: 1. add year label\n",
    "#          2. as years go on, increase mean of area\n",
    "#          3. total num of fires per month variance\n",
    "#             between top 3 months and rest increase\n",
    "#          4. increase sampling bias from middle of\n",
    "#             area distribution\n",
    "#          5. some years better to train on than\n",
    "#             others\n",
    "# "
   ]
  },
  {
   "cell_type": "code",
   "execution_count": null,
   "metadata": {},
   "outputs": [],
   "source": [
    "# might be easier to generate trends in data by sampling directly from\n",
    "# test set first, lets see"
   ]
  },
  {
   "cell_type": "code",
   "execution_count": null,
   "metadata": {},
   "outputs": [],
   "source": [
    "# gen test\n",
    "# description: fictional yearly data from 2016-2020\n",
    "# 1. 680 rows (each yr has ave of 170 rows(fire instances), so 4 yrs = 680 rows)\n",
    "# 2. make use of random_state attribute in pd.sample method\n",
    "# 3. no zero valued area rows = student acc increases if they don't train on zero area rows\n",
    "# 4. student acc increases if they take into account month bias in final model\n",
    "# 5. student acc increases if they take into account mid distribution bias\n"
   ]
  },
  {
   "cell_type": "code",
   "execution_count": null,
   "metadata": {},
   "outputs": [],
   "source": [
    "# test set v1\n"
   ]
  },
  {
   "cell_type": "code",
   "execution_count": null,
   "metadata": {},
   "outputs": [],
   "source": [
    "# gen val1&2\n",
    "# description:\n",
    "#    val1: used to express the test set's 65% month bias to Aug, Sep, Mar\n",
    "#         1. 200 rows, 65% from top 3 months in test set, 35% from train set other months\n",
    "#    val2: used to express the test set's middle distribution bias\n",
    "#         1. 200 rows, 65% from mid of test ditribution, 35% from train high low distribution\n",
    "#            ends.\n"
   ]
  }
 ],
 "metadata": {
  "kernelspec": {
   "display_name": "Python 3",
   "language": "python",
   "name": "python3"
  },
  "language_info": {
   "codemirror_mode": {
    "name": "ipython",
    "version": 3
   },
   "file_extension": ".py",
   "mimetype": "text/x-python",
   "name": "python",
   "nbconvert_exporter": "python",
   "pygments_lexer": "ipython3",
   "version": "3.7.9"
  }
 },
 "nbformat": 4,
 "nbformat_minor": 4
}
